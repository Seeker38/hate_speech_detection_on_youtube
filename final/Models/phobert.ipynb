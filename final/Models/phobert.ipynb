{
  "cells": [
    {
      "cell_type": "code",
      "execution_count": null,
      "metadata": {
        "id": "H9IrBebxOhf_"
      },
      "outputs": [],
      "source": []
    },
    {
      "cell_type": "code",
      "execution_count": null,
      "metadata": {
        "colab": {
          "base_uri": "https://localhost:8080/"
        },
        "id": "PTqhrPaSeE-z",
        "outputId": "53dc565c-2b7a-4184-a275-7f8bf015ef26"
      },
      "outputs": [
        {
          "name": "stdout",
          "output_type": "stream",
          "text": [
            "Drive already mounted at /content/drive; to attempt to forcibly remount, call drive.mount(\"/content/drive\", force_remount=True).\n"
          ]
        }
      ],
      "source": [
        "from google.colab import drive\n",
        "drive.mount('/content/drive')"
      ]
    },
    {
      "cell_type": "code",
      "execution_count": null,
      "metadata": {
        "colab": {
          "base_uri": "https://localhost:8080/"
        },
        "id": "tL1iFjECh3_6",
        "outputId": "63bed4da-e17e-4f1d-d40f-4c6fa16ec404"
      },
      "outputs": [
        {
          "name": "stdout",
          "output_type": "stream",
          "text": [
            "Traceback (most recent call last):\n",
            "  File \"/usr/local/bin/pip3\", line 5, in <module>\n",
            "    from pip._internal.cli.main import main\n",
            "  File \"/usr/local/lib/python3.10/dist-packages/pip/_internal/cli/main.py\", line 10, in <module>\n",
            "    from pip._internal.cli.autocompletion import autocomplete\n",
            "  File \"/usr/local/lib/python3.10/dist-packages/pip/_internal/cli/autocompletion.py\", line 10, in <module>\n",
            "    from pip._internal.cli.main_parser import create_main_parser\n",
            "  File \"/usr/local/lib/python3.10/dist-packages/pip/_internal/cli/main_parser.py\", line 9, in <module>\n",
            "    from pip._internal.build_env import get_runnable_pip\n",
            "  File \"/usr/local/lib/python3.10/dist-packages/pip/_internal/build_env.py\", line 19, in <module>\n",
            "    from pip._internal.cli.spinners import open_spinner\n",
            "  File \"/usr/local/lib/python3.10/dist-packages/pip/_internal/cli/spinners.py\", line 9, in <module>\n",
            "    from pip._internal.utils.logging import get_indentation\n",
            "  File \"/usr/local/lib/python3.10/dist-packages/pip/_internal/utils/logging.py\", line 29, in <module>\n",
            "    from pip._internal.utils.misc import ensure_dir\n",
            "  File \"/usr/local/lib/python3.10/dist-packages/pip/_internal/utils/misc.py\", line 43, in <module>\n",
            "    from pip._internal.exceptions import CommandError, ExternallyManagedEnvironment\n",
            "  File \"<frozen importlib._bootstrap>\", line 1027, in _find_and_load\n",
            "  File \"<frozen importlib._bootstrap>\", line 1006, in _find_and_load_unlocked\n",
            "  File \"<frozen importlib._bootstrap>\", line 688, in _load_unlocked\n",
            "  File \"<frozen importlib._bootstrap_external>\", line 879, in exec_module\n",
            "  File \"<frozen importlib._bootstrap_external>\", line 975, in get_code\n",
            "  File \"<frozen importlib._bootstrap_external>\", line 1074, in get_data\n",
            "KeyboardInterrupt\n",
            "^C\n",
            "\u001b[2K     \u001b[90m━━━━━━━━━━━━━━━━━━━━━━━━━━━━━━━━━━━━━━━━\u001b[0m \u001b[32m112.3/112.3 kB\u001b[0m \u001b[31m2.3 MB/s\u001b[0m eta \u001b[36m0:00:00\u001b[0m\n",
            "\u001b[?25h"
          ]
        }
      ],
      "source": [
        "!pip install transformers -qq\n",
        "!pip install sentencepiece -qq\n",
        "!pip install tokenizer -qq"
      ]
    },
    {
      "cell_type": "markdown",
      "metadata": {
        "id": "C-pzooQXh5S7"
      },
      "source": [
        "##Load Dataset"
      ]
    },
    {
      "cell_type": "code",
      "execution_count": null,
      "metadata": {
        "id": "WTMXPNE2W6NJ"
      },
      "outputs": [],
      "source": [
        "\n",
        "import numpy as np\n",
        "import pandas as pd\n",
        "\n",
        "train = pd.read_csv('/data/train.csv')\n",
        "dev = pd.read_csv('/data/dev.csv')\n",
        "test = pd.read_csv('/data/test.csv')\n",
        "\n",
        "\n",
        "train['free_text'] = train['free_text'].astype(str)\n",
        "X_train = train['free_text']\n",
        "y_train = train[\"label_id\"]\n",
        "\n",
        "dev['free_text'] = dev['free_text'].astype(str)\n",
        "X_valid = dev['free_text']\n",
        "y_valid = dev['label_id']\n",
        "\n",
        "test['free_text'] = test['free_text'].astype(str)\n",
        "X_test = test['free_text']\n",
        "y_test = test['label_id']\n"
      ]
    },
    {
      "cell_type": "markdown",
      "metadata": {
        "id": "La-lPuGjCxbb"
      },
      "source": [
        "## Set Cuda"
      ]
    },
    {
      "cell_type": "code",
      "execution_count": null,
      "metadata": {
        "colab": {
          "base_uri": "https://localhost:8080/"
        },
        "id": "SnuQNrQ5Cxi_",
        "outputId": "2b6be9ba-f306-453a-f313-526c92730be3"
      },
      "outputs": [
        {
          "data": {
            "text/plain": [
              "False"
            ]
          },
          "execution_count": 8,
          "metadata": {},
          "output_type": "execute_result"
        }
      ],
      "source": [
        "import torch\n",
        "from torchtext import data\n",
        "from torchtext import datasets\n",
        "import random\n",
        "import numpy as np\n",
        "\n",
        "SEED = 1234\n",
        "\n",
        "random.seed(SEED)\n",
        "np.random.seed(SEED)\n",
        "torch.manual_seed(SEED)\n",
        "torch.backends.cudnn.deterministic = True\n",
        "\n",
        "torch.cuda.is_available()"
      ]
    },
    {
      "cell_type": "markdown",
      "metadata": {
        "id": "gHV2PrVfiBLg"
      },
      "source": [
        "# Extract feature by using PhoBERT"
      ]
    },
    {
      "cell_type": "code",
      "execution_count": null,
      "metadata": {
        "id": "MreD1ev6AgXM"
      },
      "outputs": [],
      "source": [
        "import pandas as pd\n",
        "from glob import glob\n",
        "\n",
        "train_sentences = list(train['free_text'].values)\n",
        "train_labels = list(train['label_id'].values)\n",
        "\n",
        "dev_sentences = list(dev['free_text'].values)\n",
        "dev_labels = list(dev['label_id'].values)\n",
        "\n",
        "test_sentences = list(test['free_text'].values)\n",
        "test_labels = list(test['label_id'].values)"
      ]
    },
    {
      "cell_type": "markdown",
      "metadata": {
        "id": "rNVMN4YPiNjp"
      },
      "source": [
        "Load tokenizer of PhoBERT"
      ]
    },
    {
      "cell_type": "code",
      "execution_count": null,
      "metadata": {
        "colab": {
          "base_uri": "https://localhost:8080/",
          "height": 269,
          "referenced_widgets": [
            "1a7615b76f914a1cb49f40b6e03827e7",
            "63deabc46b3f435a935f69c8a8274648",
            "ad983b1ebad042a992ac1bc250ee1ca4",
            "1400ac62e2a94c7096d86c0a9096ba9c",
            "f5328c05e355477ba782e3a0de1c76bd",
            "71aa88f42ab745d9955a3d3213355aca",
            "0d62f1af775a4458a3a09b5af1147825",
            "f1317787c1564d678a1ffce4b847cc07",
            "0c73e94db5a340d4a5e014c44a234677",
            "88b2bae4b12f446a8dc78343c2631f1c",
            "00bd8f5f849649619252cbecb0891c9a",
            "dfe3ab83e3684fb98ba2aa3238ed9b28",
            "b5d1b0a547614d7a9da0bcb4242c6083",
            "02a41a92137f456ca29a7e7ef13cc34e",
            "4051bb3a313043e3b453f9d89146d6f6",
            "52a040a29b8741cc843281e70bc3c54d",
            "dbf738e5907c4c1fbec6bcd4e69218eb",
            "20b836e429814a65a761871065363cb2",
            "26fb934334f04335bb47110796ad6101",
            "49c33cb8aec7479bafecaf48a4a74dd1",
            "1dc3047a8ff7423fa50e85cbe5857140",
            "096c9f26c87948de99fa2df279f3ed60",
            "62b39a895a9b461fa9383f66192b1bd6",
            "274bcb4a6b4544c38f46c7db3e6fa77e",
            "bb55100fe5fc4e67b7c78fc96113efe9",
            "1aa1d9eae0b84343b4a709106502e5ed",
            "6a3605707cf74385bfef4d59fe25929d",
            "4734c2ff472847729defd5e8ccd16b49",
            "b04372da3b1b402eaf1ef39d53754296",
            "bbcb5d7447ef4b1ca1cd3f9946e684d2",
            "447ec07b25f34a34b8b564240c198474",
            "474f116020ad457690a8049ba7777dd4",
            "20bad472bb66432eb0fc474099427e03",
            "f7f2b1ca835544fda2956749b89701c7",
            "c65ae4e13fd040e19ab27b157c578e24",
            "84f23a45cf594483b613b0a8f34c7c56",
            "9a031128f79a4eff98b11f4a14f78d8c",
            "2ac349678dd74e63b0a5368bcf7c5eeb",
            "ea24cac177114171b673eab6460960ea",
            "9077b4d9a41942f691679f1c3dfffcda",
            "b840992ecf4c4478b921be94f5cc03b3",
            "e9bce4b8a8d9497187bdfff0b19fd94e",
            "44081f898e7340198a67abf5dea447a9",
            "c55f7dd2682b4ae1a8b2a9e1393f03e2"
          ]
        },
        "id": "gI8SPqPcA8BS",
        "outputId": "785be761-7814-42d6-e612-18264a7ec68f"
      },
      "outputs": [
        {
          "name": "stderr",
          "output_type": "stream",
          "text": [
            "/usr/local/lib/python3.10/dist-packages/huggingface_hub/utils/_token.py:88: UserWarning: \n",
            "The secret `HF_TOKEN` does not exist in your Colab secrets.\n",
            "To authenticate with the Hugging Face Hub, create a token in your settings tab (https://huggingface.co/settings/tokens), set it as secret in your Google Colab and restart your session.\n",
            "You will be able to reuse this secret in all of your notebooks.\n",
            "Please note that authentication is recommended but still optional to access public models or datasets.\n",
            "  warnings.warn(\n"
          ]
        },
        {
          "data": {
            "application/vnd.jupyter.widget-view+json": {
              "model_id": "1a7615b76f914a1cb49f40b6e03827e7",
              "version_major": 2,
              "version_minor": 0
            },
            "text/plain": [
              "config.json:   0%|          | 0.00/557 [00:00<?, ?B/s]"
            ]
          },
          "metadata": {},
          "output_type": "display_data"
        },
        {
          "data": {
            "application/vnd.jupyter.widget-view+json": {
              "model_id": "dfe3ab83e3684fb98ba2aa3238ed9b28",
              "version_major": 2,
              "version_minor": 0
            },
            "text/plain": [
              "vocab.txt:   0%|          | 0.00/895k [00:00<?, ?B/s]"
            ]
          },
          "metadata": {},
          "output_type": "display_data"
        },
        {
          "data": {
            "application/vnd.jupyter.widget-view+json": {
              "model_id": "62b39a895a9b461fa9383f66192b1bd6",
              "version_major": 2,
              "version_minor": 0
            },
            "text/plain": [
              "bpe.codes:   0%|          | 0.00/1.14M [00:00<?, ?B/s]"
            ]
          },
          "metadata": {},
          "output_type": "display_data"
        },
        {
          "data": {
            "application/vnd.jupyter.widget-view+json": {
              "model_id": "f7f2b1ca835544fda2956749b89701c7",
              "version_major": 2,
              "version_minor": 0
            },
            "text/plain": [
              "tokenizer.json:   0%|          | 0.00/3.13M [00:00<?, ?B/s]"
            ]
          },
          "metadata": {},
          "output_type": "display_data"
        }
      ],
      "source": [
        "from transformers import AutoTokenizer\n",
        "\n",
        "tokenizer = AutoTokenizer.from_pretrained('vinai/phobert-base')"
      ]
    },
    {
      "cell_type": "code",
      "execution_count": null,
      "metadata": {
        "colab": {
          "base_uri": "https://localhost:8080/"
        },
        "id": "5PNp5aRVA-Hb",
        "outputId": "0cedd896-c335-4c75-f7d1-0404e6d97674"
      },
      "outputs": [
        {
          "data": {
            "text/plain": [
              "[(4, 2271),\n",
              " (6, 2265),\n",
              " (5, 2232),\n",
              " (7, 2168),\n",
              " (3, 1943),\n",
              " (8, 1886),\n",
              " (9, 1731),\n",
              " (10, 1513),\n",
              " (2, 1380),\n",
              " (11, 1349),\n",
              " (12, 1183),\n",
              " (13, 1081),\n",
              " (1, 1073),\n",
              " (14, 931),\n",
              " (15, 829),\n",
              " (16, 659),\n",
              " (17, 612),\n",
              " (18, 559),\n",
              " (19, 489),\n",
              " (20, 435),\n",
              " (21, 371),\n",
              " (22, 349),\n",
              " (23, 344),\n",
              " (24, 300),\n",
              " (25, 299),\n",
              " (28, 221),\n",
              " (26, 209),\n",
              " (27, 203),\n",
              " (29, 186),\n",
              " (30, 182),\n",
              " (33, 169),\n",
              " (32, 154),\n",
              " (31, 150),\n",
              " (34, 135),\n",
              " (36, 132),\n",
              " (35, 113),\n",
              " (37, 110),\n",
              " (38, 110),\n",
              " (40, 108),\n",
              " (39, 103),\n",
              " (41, 95),\n",
              " (43, 80),\n",
              " (44, 79),\n",
              " (45, 78),\n",
              " (46, 71),\n",
              " (47, 70),\n",
              " (42, 68),\n",
              " (51, 66),\n",
              " (48, 63),\n",
              " (49, 60),\n",
              " (53, 56),\n",
              " (58, 55),\n",
              " (50, 51),\n",
              " (52, 51),\n",
              " (56, 50),\n",
              " (55, 48),\n",
              " (59, 48),\n",
              " (54, 46),\n",
              " (67, 43),\n",
              " (57, 42),\n",
              " (62, 38),\n",
              " (63, 36),\n",
              " (66, 33),\n",
              " (60, 33),\n",
              " (68, 33),\n",
              " (65, 33),\n",
              " (64, 31),\n",
              " (61, 31),\n",
              " (75, 28),\n",
              " (71, 25),\n",
              " (74, 25),\n",
              " (70, 24),\n",
              " (72, 22),\n",
              " (73, 20),\n",
              " (69, 20),\n",
              " (76, 20),\n",
              " (82, 19),\n",
              " (78, 18),\n",
              " (85, 16),\n",
              " (77, 15),\n",
              " (80, 15),\n",
              " (84, 13),\n",
              " (79, 13),\n",
              " (87, 13),\n",
              " (81, 12),\n",
              " (92, 11),\n",
              " (83, 9),\n",
              " (93, 9),\n",
              " (91, 8),\n",
              " (97, 7),\n",
              " (88, 7),\n",
              " (94, 7),\n",
              " (96, 6),\n",
              " (90, 6),\n",
              " (86, 6),\n",
              " (89, 5),\n",
              " (101, 5),\n",
              " (98, 5),\n",
              " (103, 3),\n",
              " (106, 2)]"
            ]
          },
          "execution_count": 11,
          "metadata": {},
          "output_type": "execute_result"
        }
      ],
      "source": [
        "#choose max_length for phobert model based on the input length\n",
        "\n",
        "max_length = 0\n",
        "list_len=[]\n",
        "for sentence in train_sentences:\n",
        "    length = len(tokenizer.tokenize(sentence))\n",
        "    list_len.append(length)\n",
        "\n",
        "from collections import Counter\n",
        "Counter(list_len).most_common(100)"
      ]
    },
    {
      "cell_type": "code",
      "execution_count": null,
      "metadata": {
        "id": "dX5lBYCTD9bU"
      },
      "outputs": [],
      "source": [
        "# Encode train label\n",
        "\n",
        "from sklearn import preprocessing\n",
        "\n",
        "le = preprocessing.LabelEncoder()\n",
        "le.fit(train_labels)\n",
        "encoded_labels = le.transform(train_labels)\n",
        "encoded_test_labels = le.transform(dev_labels)"
      ]
    },
    {
      "cell_type": "code",
      "execution_count": null,
      "metadata": {
        "colab": {
          "base_uri": "https://localhost:8080/",
          "height": 356
        },
        "id": "e9XdWNkpFBgH",
        "outputId": "56b6ca65-46b1-44c7-eb1a-c58ffe05193f"
      },
      "outputs": [
        {
          "ename": "RuntimeError",
          "evalue": "Found no NVIDIA driver on your system. Please check that you have an NVIDIA GPU and installed a driver from http://www.nvidia.com/Download/index.aspx",
          "output_type": "error",
          "traceback": [
            "\u001b[0;31m---------------------------------------------------------------------------\u001b[0m",
            "\u001b[0;31mRuntimeError\u001b[0m                              Traceback (most recent call last)",
            "\u001b[0;32m<ipython-input-15-37446410c016>\u001b[0m in \u001b[0;36m<cell line: 31>\u001b[0;34m()\u001b[0m\n\u001b[1;32m     29\u001b[0m     \u001b[0;32mreturn\u001b[0m \u001b[0msent_index\u001b[0m\u001b[0;34m,\u001b[0m\u001b[0minput_ids\u001b[0m\u001b[0;34m,\u001b[0m\u001b[0mattention_masks\u001b[0m\u001b[0;34m,\u001b[0m\u001b[0mlabels\u001b[0m\u001b[0;34m\u001b[0m\u001b[0;34m\u001b[0m\u001b[0m\n\u001b[1;32m     30\u001b[0m \u001b[0;34m\u001b[0m\u001b[0m\n\u001b[0;32m---> 31\u001b[0;31m \u001b[0mtrain_sent_index\u001b[0m\u001b[0;34m,\u001b[0m\u001b[0mtrain_input_ids\u001b[0m\u001b[0;34m,\u001b[0m\u001b[0mtrain_attention_masks\u001b[0m\u001b[0;34m,\u001b[0m\u001b[0mtrain_encoded_label_tensors\u001b[0m \u001b[0;34m=\u001b[0m \u001b[0mencoder_generator\u001b[0m\u001b[0;34m(\u001b[0m\u001b[0mtrain_sentences\u001b[0m\u001b[0;34m,\u001b[0m\u001b[0mencoded_labels\u001b[0m\u001b[0;34m)\u001b[0m\u001b[0;34m\u001b[0m\u001b[0;34m\u001b[0m\u001b[0m\n\u001b[0m\u001b[1;32m     32\u001b[0m \u001b[0mdev_sent_index\u001b[0m\u001b[0;34m,\u001b[0m\u001b[0mdev_input_ids\u001b[0m\u001b[0;34m,\u001b[0m\u001b[0mdev_attention_masks\u001b[0m\u001b[0;34m,\u001b[0m\u001b[0mdev_encoded_label_tensors\u001b[0m \u001b[0;34m=\u001b[0m \u001b[0mencoder_generator\u001b[0m\u001b[0;34m(\u001b[0m\u001b[0mdev_sentences\u001b[0m\u001b[0;34m,\u001b[0m\u001b[0mencoded_test_labels\u001b[0m\u001b[0;34m)\u001b[0m\u001b[0;34m\u001b[0m\u001b[0;34m\u001b[0m\u001b[0m\n\u001b[1;32m     33\u001b[0m \u001b[0mprint\u001b[0m\u001b[0;34m(\u001b[0m\u001b[0;34m'Original: '\u001b[0m\u001b[0;34m,\u001b[0m \u001b[0mtrain_sentences\u001b[0m\u001b[0;34m[\u001b[0m\u001b[0;36m0\u001b[0m\u001b[0;34m]\u001b[0m\u001b[0;34m)\u001b[0m\u001b[0;34m\u001b[0m\u001b[0;34m\u001b[0m\u001b[0m\n",
            "\u001b[0;32m<ipython-input-15-37446410c016>\u001b[0m in \u001b[0;36mencoder_generator\u001b[0;34m(sentences, labels)\u001b[0m\n\u001b[1;32m     22\u001b[0m         \u001b[0mattention_masks\u001b[0m\u001b[0;34m.\u001b[0m\u001b[0mappend\u001b[0m\u001b[0;34m(\u001b[0m\u001b[0mencoded_dict\u001b[0m\u001b[0;34m[\u001b[0m\u001b[0;34m'attention_mask'\u001b[0m\u001b[0;34m]\u001b[0m\u001b[0;34m)\u001b[0m\u001b[0;34m\u001b[0m\u001b[0;34m\u001b[0m\u001b[0m\n\u001b[1;32m     23\u001b[0m \u001b[0;34m\u001b[0m\u001b[0m\n\u001b[0;32m---> 24\u001b[0;31m     \u001b[0minput_ids\u001b[0m \u001b[0;34m=\u001b[0m \u001b[0mtorch\u001b[0m\u001b[0;34m.\u001b[0m\u001b[0mcat\u001b[0m\u001b[0;34m(\u001b[0m\u001b[0minput_ids\u001b[0m\u001b[0;34m,\u001b[0m\u001b[0mdim\u001b[0m\u001b[0;34m=\u001b[0m\u001b[0;36m0\u001b[0m\u001b[0;34m)\u001b[0m\u001b[0;34m.\u001b[0m\u001b[0mcuda\u001b[0m\u001b[0;34m(\u001b[0m\u001b[0;34m)\u001b[0m\u001b[0;34m\u001b[0m\u001b[0;34m\u001b[0m\u001b[0m\n\u001b[0m\u001b[1;32m     25\u001b[0m     \u001b[0mattention_masks\u001b[0m \u001b[0;34m=\u001b[0m \u001b[0mtorch\u001b[0m\u001b[0;34m.\u001b[0m\u001b[0mcat\u001b[0m\u001b[0;34m(\u001b[0m\u001b[0mattention_masks\u001b[0m\u001b[0;34m,\u001b[0m\u001b[0mdim\u001b[0m\u001b[0;34m=\u001b[0m\u001b[0;36m0\u001b[0m\u001b[0;34m)\u001b[0m\u001b[0;34m.\u001b[0m\u001b[0mcuda\u001b[0m\u001b[0;34m(\u001b[0m\u001b[0;34m)\u001b[0m\u001b[0;34m\u001b[0m\u001b[0;34m\u001b[0m\u001b[0m\n\u001b[1;32m     26\u001b[0m     \u001b[0mlabels\u001b[0m \u001b[0;34m=\u001b[0m \u001b[0mtorch\u001b[0m\u001b[0;34m.\u001b[0m\u001b[0mtensor\u001b[0m\u001b[0;34m(\u001b[0m\u001b[0mlabels\u001b[0m\u001b[0;34m)\u001b[0m\u001b[0;34m.\u001b[0m\u001b[0mcuda\u001b[0m\u001b[0;34m(\u001b[0m\u001b[0;34m)\u001b[0m\u001b[0;34m\u001b[0m\u001b[0;34m\u001b[0m\u001b[0m\n",
            "\u001b[0;32m/usr/local/lib/python3.10/dist-packages/torch/cuda/__init__.py\u001b[0m in \u001b[0;36m_lazy_init\u001b[0;34m()\u001b[0m\n\u001b[1;32m    300\u001b[0m         \u001b[0;32mif\u001b[0m \u001b[0;34m\"CUDA_MODULE_LOADING\"\u001b[0m \u001b[0;32mnot\u001b[0m \u001b[0;32min\u001b[0m \u001b[0mos\u001b[0m\u001b[0;34m.\u001b[0m\u001b[0menviron\u001b[0m\u001b[0;34m:\u001b[0m\u001b[0;34m\u001b[0m\u001b[0;34m\u001b[0m\u001b[0m\n\u001b[1;32m    301\u001b[0m             \u001b[0mos\u001b[0m\u001b[0;34m.\u001b[0m\u001b[0menviron\u001b[0m\u001b[0;34m[\u001b[0m\u001b[0;34m\"CUDA_MODULE_LOADING\"\u001b[0m\u001b[0;34m]\u001b[0m \u001b[0;34m=\u001b[0m \u001b[0;34m\"LAZY\"\u001b[0m\u001b[0;34m\u001b[0m\u001b[0;34m\u001b[0m\u001b[0m\n\u001b[0;32m--> 302\u001b[0;31m         \u001b[0mtorch\u001b[0m\u001b[0;34m.\u001b[0m\u001b[0m_C\u001b[0m\u001b[0;34m.\u001b[0m\u001b[0m_cuda_init\u001b[0m\u001b[0;34m(\u001b[0m\u001b[0;34m)\u001b[0m\u001b[0;34m\u001b[0m\u001b[0;34m\u001b[0m\u001b[0m\n\u001b[0m\u001b[1;32m    303\u001b[0m         \u001b[0;31m# Some of the queued calls may reentrantly call _lazy_init();\u001b[0m\u001b[0;34m\u001b[0m\u001b[0;34m\u001b[0m\u001b[0m\n\u001b[1;32m    304\u001b[0m         \u001b[0;31m# we need to just return without initializing in that case.\u001b[0m\u001b[0;34m\u001b[0m\u001b[0;34m\u001b[0m\u001b[0m\n",
            "\u001b[0;31mRuntimeError\u001b[0m: Found no NVIDIA driver on your system. Please check that you have an NVIDIA GPU and installed a driver from http://www.nvidia.com/Download/index.aspx"
          ]
        }
      ],
      "source": [
        "# Tokens IDs tensor\n",
        "\n",
        "def encoder_generator(sentences,labels):\n",
        "\n",
        "    sent_index = []\n",
        "    input_ids = []\n",
        "    attention_masks =[]\n",
        "\n",
        "    for index,sent in enumerate(sentences):\n",
        "\n",
        "        sent_index.append(index)\n",
        "\n",
        "        encoded_dict = tokenizer.encode_plus(sent,\n",
        "                                             add_special_tokens=True,\n",
        "                                             max_length=70,\n",
        "                                             pad_to_max_length=True,\n",
        "                                             truncation = True,\n",
        "                                             return_attention_mask=True,\n",
        "                                             return_tensors='pt')\n",
        "        input_ids.append(encoded_dict['input_ids'])\n",
        "\n",
        "        attention_masks.append(encoded_dict['attention_mask'])\n",
        "\n",
        "    input_ids = torch.cat(input_ids,dim=0).cuda()\n",
        "    attention_masks = torch.cat(attention_masks,dim=0).cuda()\n",
        "    labels = torch.tensor(labels).cuda()\n",
        "    sent_index = torch.tensor(sent_index).cuda()\n",
        "\n",
        "    return sent_index,input_ids,attention_masks,labels\n",
        "\n",
        "train_sent_index,train_input_ids,train_attention_masks,train_encoded_label_tensors = encoder_generator(train_sentences,encoded_labels)\n",
        "dev_sent_index,dev_input_ids,dev_attention_masks,dev_encoded_label_tensors = encoder_generator(dev_sentences,encoded_test_labels)\n",
        "print('Original: ', train_sentences[0])\n",
        "print('Token IDs:', train_input_ids[0])"
      ]
    },
    {
      "cell_type": "code",
      "execution_count": null,
      "metadata": {
        "id": "_BYbqZ7NMMWw"
      },
      "outputs": [],
      "source": [
        "# Connvert train, dev input by using TensorDataset\n",
        "\n",
        "from torch.utils.data import TensorDataset,random_split\n",
        "\n",
        "train_dataset = TensorDataset(train_input_ids,train_attention_masks,train_encoded_label_tensors)\n",
        "dev_dataset = TensorDataset(dev_input_ids,dev_attention_masks,dev_encoded_label_tensors)\n",
        "\n",
        "print('train data samples is {}'.format(len(train_dataset)))\n",
        "print(\"valid data samples is {}\".format(len(dev_dataset)))"
      ]
    },
    {
      "cell_type": "code",
      "execution_count": null,
      "metadata": {
        "id": "Em9Q1v0BMZZX"
      },
      "outputs": [],
      "source": [
        "# Set cuda by using device\n",
        "\n",
        "from torch.utils.data import DataLoader,RandomSampler,SequentialSampler\n",
        "\n",
        "bs=128\n",
        "\n",
        "device = torch.device('cuda' if torch.cuda.is_available() else 'cpu')\n",
        "\n",
        "train_data_loader = DataLoader(train_dataset,\n",
        "                              sampler=RandomSampler(train_dataset),\n",
        "                              batch_size=bs)\n",
        "valid_data_loader = DataLoader(dev_dataset,\n",
        "                              sampler=RandomSampler(dev_dataset),\n",
        "                              batch_size=bs)"
      ]
    },
    {
      "cell_type": "markdown",
      "metadata": {
        "id": "xEtD7kn4jbTl"
      },
      "source": [
        "Load model PhoBERT"
      ]
    },
    {
      "cell_type": "code",
      "execution_count": null,
      "metadata": {
        "id": "sQiHRn2zMdIJ"
      },
      "outputs": [],
      "source": [
        "from transformers import AutoModel\n",
        "\n",
        "phoBert = AutoModel.from_pretrained('vinai/phobert-base')\n",
        "phoBert = phoBert.to(device)"
      ]
    },
    {
      "cell_type": "markdown",
      "metadata": {
        "id": "zEv63LPpjkcK"
      },
      "source": [
        "# Build CNN"
      ]
    },
    {
      "cell_type": "code",
      "execution_count": null,
      "metadata": {
        "id": "q44-J-QWMgKQ"
      },
      "outputs": [],
      "source": [
        "# Build class CNN\n",
        "\n",
        "import torch.nn as nn\n",
        "import torch.nn.functional as F\n",
        "\n",
        "class CNN(nn.Module):\n",
        "    def __init__(self, embedding_dim, n_filters, filter_sizes, output_dim,\n",
        "                 dropout, pad_idx):\n",
        "\n",
        "        super().__init__()\n",
        "\n",
        "        self.fc_input = nn.Linear(embedding_dim,embedding_dim)\n",
        "\n",
        "        self.conv_0 = nn.Conv1d(in_channels = embedding_dim,\n",
        "                                out_channels = n_filters,\n",
        "                                kernel_size = filter_sizes[0])\n",
        "\n",
        "        self.conv_1 = nn.Conv1d(in_channels = embedding_dim,\n",
        "                                out_channels = n_filters,\n",
        "                                kernel_size = filter_sizes[1])\n",
        "\n",
        "        self.conv_2 = nn.Conv1d(in_channels = embedding_dim,\n",
        "                                out_channels = n_filters,\n",
        "                                kernel_size = filter_sizes[2])\n",
        "\n",
        "        self.conv_3 = nn.Conv1d(in_channels = embedding_dim,\n",
        "                                out_channels = n_filters,\n",
        "                                kernel_size = filter_sizes[3])\n",
        "\n",
        "        self.fc = nn.Linear(len(filter_sizes) * n_filters, output_dim)\n",
        "\n",
        "        self.dropout = nn.Dropout(dropout)\n",
        "\n",
        "    def forward(self, encoded):\n",
        "\n",
        "        #embedded = [batch size, sent len, emb dim]\n",
        "        embedded = self.fc_input(encoded)\n",
        "        #print(embedded.shape)\n",
        "\n",
        "        embedded = embedded.permute(0, 2, 1)\n",
        "        #print(embedded.shape)\n",
        "\n",
        "        #embedded = [batch size, emb dim, sent len]\n",
        "\n",
        "        conved_0 = F.relu(self.conv_0(embedded))\n",
        "        conved_1 = F.relu(self.conv_1(embedded))\n",
        "        conved_2 = F.relu(self.conv_2(embedded))\n",
        "        conved_3 = F.relu(self.conv_3(embedded))\n",
        "\n",
        "        #conved_n = [batch size, n_filters, sent len - filter_sizes[n] + 1]\n",
        "\n",
        "        pooled_0 = F.max_pool1d(conved_0, conved_0.shape[2]).squeeze(2)\n",
        "        pooled_1 = F.max_pool1d(conved_1, conved_1.shape[2]).squeeze(2)\n",
        "        pooled_2 = F.max_pool1d(conved_2, conved_2.shape[2]).squeeze(2)\n",
        "        pooled_3 = F.max_pool1d(conved_3, conved_3.shape[2]).squeeze(2)\n",
        "\n",
        "        #pooled_n = [batch size, n_fibatlters]\n",
        "\n",
        "        cat = self.dropout(torch.cat((pooled_0, pooled_1, pooled_2, pooled_3), dim = 1).cuda())\n",
        "\n",
        "        #cat = [batch size, n_filters * len(filter_sizes)]\n",
        "\n",
        "        result =  self.fc(cat)\n",
        "\n",
        "        #print(result.shape)\n",
        "\n",
        "        return result"
      ]
    },
    {
      "cell_type": "code",
      "execution_count": null,
      "metadata": {
        "id": "nTo_bpEeMqgr"
      },
      "outputs": [],
      "source": [
        "# Hyperparameters\n",
        "\n",
        "EMBEDDING_DIM = 768\n",
        "N_FILTERS = 128\n",
        "FILTER_SIZES = [3,4,5]\n",
        "OUTPUT_DIM = len(le.classes_)\n",
        "DROPOUT = 0.3\n",
        "PAD_IDX = tokenizer.pad_token_id\n",
        "\n",
        "cnn = CNN(EMBEDDING_DIM, N_FILTERS, FILTER_SIZES, OUTPUT_DIM, DROPOUT, PAD_IDX)\n",
        "cnn = cnn.to(device)"
      ]
    },
    {
      "cell_type": "code",
      "execution_count": null,
      "metadata": {
        "id": "ITmi7WZDMsl6"
      },
      "outputs": [],
      "source": [
        "# Optimizer and criterion\n",
        "\n",
        "import torch.optim as optim\n",
        "\n",
        "model_prameters = list(phoBert.parameters())+list(cnn.parameters())\n",
        "\n",
        "optimizer = optim.Adam(model_prameters,lr=2e-5,eps=1e-8)\n",
        "criterion = nn.CrossEntropyLoss()\n",
        "criterion = criterion.to(device)"
      ]
    },
    {
      "cell_type": "code",
      "execution_count": null,
      "metadata": {
        "id": "oyp8HhAxMvQH"
      },
      "outputs": [],
      "source": [
        "# Calculate accuracy per batch during train\n",
        "\n",
        "def categorical_accuracy(preds, y):\n",
        "    \"\"\"\n",
        "    Returns accuracy per batch, i.e. if you get 8/10 right, this returns 0.8, NOT 8\n",
        "    \"\"\"\n",
        "    max_preds = preds.argmax(dim = 1, keepdim = True) # get the index of the max probability\n",
        "    correct = max_preds.squeeze(1).eq(y)\n",
        "    return correct.sum() / torch.FloatTensor([y.shape[0]]).cuda()"
      ]
    },
    {
      "cell_type": "code",
      "execution_count": null,
      "metadata": {
        "id": "TrVcBEVoMxov"
      },
      "outputs": [],
      "source": [
        "# Def for training\n",
        "\n",
        "from tqdm import tqdm\n",
        "\n",
        "def train():\n",
        "\n",
        "    epoch_loss = 0\n",
        "    epoch_acc = 0\n",
        "\n",
        "    phoBert.train()\n",
        "    cnn.train()\n",
        "\n",
        "    for batch in tqdm(train_data_loader):\n",
        "        b_input_ids = batch[0].to(device)\n",
        "        b_input_mask = batch[1].to(device)\n",
        "        b_labels = batch[2].to(device)\n",
        "\n",
        "        optimizer.zero_grad()\n",
        "\n",
        "        embedded = phoBert(b_input_ids,b_input_mask)[0]\n",
        "\n",
        "        predictions = cnn(embedded)\n",
        "\n",
        "        loss = criterion(predictions, b_labels)\n",
        "\n",
        "        acc = categorical_accuracy(predictions, b_labels)\n",
        "\n",
        "        loss.backward()\n",
        "\n",
        "        optimizer.step()\n",
        "\n",
        "        epoch_loss += loss.item()\n",
        "        epoch_acc += acc.item()\n",
        "\n",
        "    return epoch_loss / len(train_data_loader), epoch_acc / len(train_data_loader)"
      ]
    },
    {
      "cell_type": "code",
      "execution_count": null,
      "metadata": {
        "id": "nTQGFfnFMz-d"
      },
      "outputs": [],
      "source": [
        "# Class for predict label\n",
        "\n",
        "import numpy as np\n",
        "\n",
        "def predictions_labels(preds,labels):\n",
        "    pred = np.argmax(preds,axis=1).flatten()\n",
        "    label = labels.flatten()\n",
        "    return pred,label"
      ]
    },
    {
      "cell_type": "code",
      "execution_count": null,
      "metadata": {
        "id": "c_4Y1RhlM17e"
      },
      "outputs": [],
      "source": [
        "# Evaluate loss, acc  and f1-macro\n",
        "\n",
        "from sklearn.metrics import classification_report,accuracy_score,f1_score\n",
        "def eval():\n",
        "    epoch_loss = 0\n",
        "\n",
        "    total_predictions = []\n",
        "    total_true = []\n",
        "\n",
        "    all_true_labels = []\n",
        "    all_pred_labels = []\n",
        "\n",
        "    phoBert.eval()\n",
        "    cnn.eval()\n",
        "\n",
        "    with torch.no_grad():\n",
        "\n",
        "        for batch in tqdm(valid_data_loader):\n",
        "            b_input_ids = batch[0].to(device)\n",
        "            b_input_mask = batch[1].to(device)\n",
        "            b_labels = batch[2].to(device)\n",
        "\n",
        "            embedded = phoBert(b_input_ids,b_input_mask)[0]\n",
        "            predictions = cnn(embedded)\n",
        "\n",
        "            loss = criterion(predictions, b_labels)\n",
        "            epoch_loss += loss.item()\n",
        "\n",
        "            predictions = predictions.detach().cpu().numpy()\n",
        "\n",
        "            label_ids = b_labels.to('cpu').numpy()\n",
        "\n",
        "            pred,true = predictions_labels(predictions,label_ids)\n",
        "\n",
        "            all_pred_labels.extend(pred)\n",
        "            all_true_labels.extend(true)\n",
        "\n",
        "    print(classification_report(all_pred_labels,all_true_labels))\n",
        "    avg_val_accuracy = accuracy_score(all_pred_labels,all_true_labels)\n",
        "    macro_f1_score = f1_score(all_pred_labels,all_true_labels,average='macro')\n",
        "\n",
        "    avg_val_loss = epoch_loss/len(valid_data_loader)\n",
        "\n",
        "    print(\"accuracy = {0:.2f}\".format(avg_val_accuracy))\n",
        "\n",
        "    return avg_val_loss,avg_val_accuracy,macro_f1_score"
      ]
    },
    {
      "cell_type": "code",
      "execution_count": null,
      "metadata": {
        "id": "ICyenO-tM35S"
      },
      "outputs": [],
      "source": [
        "# Time for training\n",
        "\n",
        "import time\n",
        "def epoch_time(start_time, end_time):\n",
        "    elapsed_time = end_time - start_time\n",
        "    elapsed_mins = int(elapsed_time / 60)\n",
        "    elapsed_secs = int(elapsed_time - (elapsed_mins * 60))\n",
        "    return elapsed_mins, elapsed_secs"
      ]
    },
    {
      "cell_type": "code",
      "execution_count": null,
      "metadata": {
        "colab": {
          "base_uri": "https://localhost:8080/",
          "height": 356
        },
        "id": "6OrAOzamNC0e",
        "outputId": "8c747fce-53de-4a87-add1-bcce061e14ac"
      },
      "outputs": [
        {
          "ename": "RuntimeError",
          "evalue": "Found no NVIDIA driver on your system. Please check that you have an NVIDIA GPU and installed a driver from http://www.nvidia.com/Download/index.aspx",
          "output_type": "error",
          "traceback": [
            "\u001b[0;31m---------------------------------------------------------------------------\u001b[0m",
            "\u001b[0;31mRuntimeError\u001b[0m                              Traceback (most recent call last)",
            "\u001b[0;32m<ipython-input-14-74a05db44650>\u001b[0m in \u001b[0;36m<cell line: 5>\u001b[0;34m()\u001b[0m\n\u001b[1;32m      3\u001b[0m \u001b[0mdevice\u001b[0m \u001b[0;34m=\u001b[0m \u001b[0mtorch\u001b[0m\u001b[0;34m.\u001b[0m\u001b[0mdevice\u001b[0m\u001b[0;34m(\u001b[0m\u001b[0;34m\"cuda\"\u001b[0m \u001b[0;32mif\u001b[0m \u001b[0mtorch\u001b[0m\u001b[0;34m.\u001b[0m\u001b[0mcuda\u001b[0m\u001b[0;34m.\u001b[0m\u001b[0mis_available\u001b[0m\u001b[0;34m(\u001b[0m\u001b[0;34m)\u001b[0m \u001b[0;32melse\u001b[0m \u001b[0;34m\"cpu\"\u001b[0m\u001b[0;34m)\u001b[0m\u001b[0;34m\u001b[0m\u001b[0;34m\u001b[0m\u001b[0m\n\u001b[1;32m      4\u001b[0m \u001b[0mn_gpu\u001b[0m \u001b[0;34m=\u001b[0m \u001b[0mtorch\u001b[0m\u001b[0;34m.\u001b[0m\u001b[0mcuda\u001b[0m\u001b[0;34m.\u001b[0m\u001b[0mdevice_count\u001b[0m\u001b[0;34m(\u001b[0m\u001b[0;34m)\u001b[0m\u001b[0;34m\u001b[0m\u001b[0;34m\u001b[0m\u001b[0m\n\u001b[0;32m----> 5\u001b[0;31m \u001b[0mtorch\u001b[0m\u001b[0;34m.\u001b[0m\u001b[0mcuda\u001b[0m\u001b[0;34m.\u001b[0m\u001b[0mget_device_name\u001b[0m\u001b[0;34m(\u001b[0m\u001b[0;36m0\u001b[0m\u001b[0;34m)\u001b[0m\u001b[0;34m\u001b[0m\u001b[0;34m\u001b[0m\u001b[0m\n\u001b[0m\u001b[1;32m      6\u001b[0m \u001b[0;34m\u001b[0m\u001b[0m\n\u001b[1;32m      7\u001b[0m \u001b[0mphoBert\u001b[0m\u001b[0;34m.\u001b[0m\u001b[0mcuda\u001b[0m\u001b[0;34m(\u001b[0m\u001b[0;34m)\u001b[0m\u001b[0;34m\u001b[0m\u001b[0;34m\u001b[0m\u001b[0m\n",
            "\u001b[0;32m/usr/local/lib/python3.10/dist-packages/torch/cuda/__init__.py\u001b[0m in \u001b[0;36mget_device_name\u001b[0;34m(device)\u001b[0m\n\u001b[1;32m    421\u001b[0m         \u001b[0mstr\u001b[0m\u001b[0;34m:\u001b[0m \u001b[0mthe\u001b[0m \u001b[0mname\u001b[0m \u001b[0mof\u001b[0m \u001b[0mthe\u001b[0m \u001b[0mdevice\u001b[0m\u001b[0;34m\u001b[0m\u001b[0;34m\u001b[0m\u001b[0m\n\u001b[1;32m    422\u001b[0m     \"\"\"\n\u001b[0;32m--> 423\u001b[0;31m     \u001b[0;32mreturn\u001b[0m \u001b[0mget_device_properties\u001b[0m\u001b[0;34m(\u001b[0m\u001b[0mdevice\u001b[0m\u001b[0;34m)\u001b[0m\u001b[0;34m.\u001b[0m\u001b[0mname\u001b[0m\u001b[0;34m\u001b[0m\u001b[0;34m\u001b[0m\u001b[0m\n\u001b[0m\u001b[1;32m    424\u001b[0m \u001b[0;34m\u001b[0m\u001b[0m\n\u001b[1;32m    425\u001b[0m \u001b[0;34m\u001b[0m\u001b[0m\n",
            "\u001b[0;32m/usr/local/lib/python3.10/dist-packages/torch/cuda/__init__.py\u001b[0m in \u001b[0;36mget_device_properties\u001b[0;34m(device)\u001b[0m\n\u001b[1;32m    451\u001b[0m         \u001b[0m_CudaDeviceProperties\u001b[0m\u001b[0;34m:\u001b[0m \u001b[0mthe\u001b[0m \u001b[0mproperties\u001b[0m \u001b[0mof\u001b[0m \u001b[0mthe\u001b[0m \u001b[0mdevice\u001b[0m\u001b[0;34m\u001b[0m\u001b[0;34m\u001b[0m\u001b[0m\n\u001b[1;32m    452\u001b[0m     \"\"\"\n\u001b[0;32m--> 453\u001b[0;31m     \u001b[0m_lazy_init\u001b[0m\u001b[0;34m(\u001b[0m\u001b[0;34m)\u001b[0m  \u001b[0;31m# will define _get_device_properties\u001b[0m\u001b[0;34m\u001b[0m\u001b[0;34m\u001b[0m\u001b[0m\n\u001b[0m\u001b[1;32m    454\u001b[0m     \u001b[0mdevice\u001b[0m \u001b[0;34m=\u001b[0m \u001b[0m_get_device_index\u001b[0m\u001b[0;34m(\u001b[0m\u001b[0mdevice\u001b[0m\u001b[0;34m,\u001b[0m \u001b[0moptional\u001b[0m\u001b[0;34m=\u001b[0m\u001b[0;32mTrue\u001b[0m\u001b[0;34m)\u001b[0m\u001b[0;34m\u001b[0m\u001b[0;34m\u001b[0m\u001b[0m\n\u001b[1;32m    455\u001b[0m     \u001b[0;32mif\u001b[0m \u001b[0mdevice\u001b[0m \u001b[0;34m<\u001b[0m \u001b[0;36m0\u001b[0m \u001b[0;32mor\u001b[0m \u001b[0mdevice\u001b[0m \u001b[0;34m>=\u001b[0m \u001b[0mdevice_count\u001b[0m\u001b[0;34m(\u001b[0m\u001b[0;34m)\u001b[0m\u001b[0;34m:\u001b[0m\u001b[0;34m\u001b[0m\u001b[0;34m\u001b[0m\u001b[0m\n",
            "\u001b[0;32m/usr/local/lib/python3.10/dist-packages/torch/cuda/__init__.py\u001b[0m in \u001b[0;36m_lazy_init\u001b[0;34m()\u001b[0m\n\u001b[1;32m    300\u001b[0m         \u001b[0;32mif\u001b[0m \u001b[0;34m\"CUDA_MODULE_LOADING\"\u001b[0m \u001b[0;32mnot\u001b[0m \u001b[0;32min\u001b[0m \u001b[0mos\u001b[0m\u001b[0;34m.\u001b[0m\u001b[0menviron\u001b[0m\u001b[0;34m:\u001b[0m\u001b[0;34m\u001b[0m\u001b[0;34m\u001b[0m\u001b[0m\n\u001b[1;32m    301\u001b[0m             \u001b[0mos\u001b[0m\u001b[0;34m.\u001b[0m\u001b[0menviron\u001b[0m\u001b[0;34m[\u001b[0m\u001b[0;34m\"CUDA_MODULE_LOADING\"\u001b[0m\u001b[0;34m]\u001b[0m \u001b[0;34m=\u001b[0m \u001b[0;34m\"LAZY\"\u001b[0m\u001b[0;34m\u001b[0m\u001b[0;34m\u001b[0m\u001b[0m\n\u001b[0;32m--> 302\u001b[0;31m         \u001b[0mtorch\u001b[0m\u001b[0;34m.\u001b[0m\u001b[0m_C\u001b[0m\u001b[0;34m.\u001b[0m\u001b[0m_cuda_init\u001b[0m\u001b[0;34m(\u001b[0m\u001b[0;34m)\u001b[0m\u001b[0;34m\u001b[0m\u001b[0;34m\u001b[0m\u001b[0m\n\u001b[0m\u001b[1;32m    303\u001b[0m         \u001b[0;31m# Some of the queued calls may reentrantly call _lazy_init();\u001b[0m\u001b[0;34m\u001b[0m\u001b[0;34m\u001b[0m\u001b[0m\n\u001b[1;32m    304\u001b[0m         \u001b[0;31m# we need to just return without initializing in that case.\u001b[0m\u001b[0;34m\u001b[0m\u001b[0;34m\u001b[0m\u001b[0m\n",
            "\u001b[0;31mRuntimeError\u001b[0m: Found no NVIDIA driver on your system. Please check that you have an NVIDIA GPU and installed a driver from http://www.nvidia.com/Download/index.aspx"
          ]
        }
      ],
      "source": [
        "# Set device and gpu\n",
        "\n",
        "device = torch.device(\"cuda\" if torch.cuda.is_available() else \"cpu\")\n",
        "n_gpu = torch.cuda.device_count()\n",
        "torch.cuda.get_device_name(0)\n",
        "\n",
        "phoBert.cuda()"
      ]
    },
    {
      "cell_type": "markdown",
      "metadata": {
        "id": "KbJBkClEkam2"
      },
      "source": [
        "# Training"
      ]
    },
    {
      "cell_type": "code",
      "execution_count": null,
      "metadata": {
        "colab": {
          "base_uri": "https://localhost:8080/"
        },
        "id": "vi2-rTdCXA5l",
        "outputId": "39e53125-aeb1-4204-f958-a0b8504e5b2a"
      },
      "outputs": [
        {
          "name": "stderr",
          "output_type": "stream",
          "text": [
            "100%|██████████| 254/254 [05:59<00:00,  1.42s/it]\n",
            "100%|██████████| 29/29 [00:13<00:00,  2.21it/s]\n"
          ]
        },
        {
          "name": "stdout",
          "output_type": "stream",
          "text": [
            "              precision    recall  f1-score   support\n",
            "\n",
            "           0       0.97      0.91      0.94      3045\n",
            "           1       0.16      0.85      0.27        62\n",
            "           2       0.68      0.57      0.62       578\n",
            "\n",
            "    accuracy                           0.86      3685\n",
            "   macro avg       0.60      0.78      0.61      3685\n",
            "weighted avg       0.91      0.86      0.88      3685\n",
            "\n",
            "accuracy = 0.86\n",
            "model saved\n",
            "Epoch: 01 | Epoch Time: 6m 12s\n",
            "\tTrain Loss: 0.518 | Train acc: 81.60%\n",
            "\t Val. Loss: 0.374 |  Val. acc: 85.94%\n",
            "\t Val. Loss: 0.374 |  Val. F1: 61.07%\n",
            "=============Epoch Ended==============\n"
          ]
        },
        {
          "name": "stderr",
          "output_type": "stream",
          "text": [
            "100%|██████████| 254/254 [06:03<00:00,  1.43s/it]\n",
            "100%|██████████| 29/29 [00:13<00:00,  2.22it/s]\n"
          ]
        },
        {
          "name": "stdout",
          "output_type": "stream",
          "text": [
            "              precision    recall  f1-score   support\n",
            "\n",
            "           0       0.97      0.93      0.95      2993\n",
            "           1       0.54      0.72      0.62       247\n",
            "           2       0.66      0.71      0.68       445\n",
            "\n",
            "    accuracy                           0.89      3685\n",
            "   macro avg       0.72      0.79      0.75      3685\n",
            "weighted avg       0.90      0.89      0.90      3685\n",
            "\n",
            "accuracy = 0.89\n",
            "model saved\n",
            "Epoch: 02 | Epoch Time: 6m 16s\n",
            "\tTrain Loss: 0.366 | Train acc: 86.86%\n",
            "\t Val. Loss: 0.316 |  Val. acc: 89.01%\n",
            "\t Val. Loss: 0.316 |  Val. F1: 75.02%\n",
            "=============Epoch Ended==============\n"
          ]
        },
        {
          "name": "stderr",
          "output_type": "stream",
          "text": [
            "100%|██████████| 254/254 [06:02<00:00,  1.43s/it]\n",
            "100%|██████████| 29/29 [00:13<00:00,  2.21it/s]\n"
          ]
        },
        {
          "name": "stdout",
          "output_type": "stream",
          "text": [
            "              precision    recall  f1-score   support\n",
            "\n",
            "           0       0.96      0.94      0.95      2947\n",
            "           1       0.53      0.76      0.62       229\n",
            "           2       0.72      0.68      0.70       509\n",
            "\n",
            "    accuracy                           0.89      3685\n",
            "   macro avg       0.74      0.79      0.76      3685\n",
            "weighted avg       0.90      0.89      0.89      3685\n",
            "\n",
            "accuracy = 0.89\n",
            "model saved\n",
            "Epoch: 03 | Epoch Time: 6m 16s\n",
            "\tTrain Loss: 0.317 | Train acc: 88.40%\n",
            "\t Val. Loss: 0.312 |  Val. acc: 89.06%\n",
            "\t Val. Loss: 0.312 |  Val. F1: 75.68%\n",
            "=============Epoch Ended==============\n"
          ]
        },
        {
          "name": "stderr",
          "output_type": "stream",
          "text": [
            "100%|██████████| 254/254 [06:02<00:00,  1.43s/it]\n",
            "100%|██████████| 29/29 [00:13<00:00,  2.21it/s]\n"
          ]
        },
        {
          "name": "stdout",
          "output_type": "stream",
          "text": [
            "              precision    recall  f1-score   support\n",
            "\n",
            "           0       0.93      0.95      0.94      2808\n",
            "           1       0.65      0.65      0.65       332\n",
            "           2       0.74      0.65      0.69       545\n",
            "\n",
            "    accuracy                           0.88      3685\n",
            "   macro avg       0.77      0.75      0.76      3685\n",
            "weighted avg       0.88      0.88      0.88      3685\n",
            "\n",
            "accuracy = 0.88\n",
            "model saved\n",
            "Epoch: 04 | Epoch Time: 6m 15s\n",
            "\tTrain Loss: 0.281 | Train acc: 89.75%\n",
            "\t Val. Loss: 0.338 |  Val. acc: 88.09%\n",
            "\t Val. Loss: 0.338 |  Val. F1: 76.16%\n",
            "=============Epoch Ended==============\n"
          ]
        },
        {
          "name": "stderr",
          "output_type": "stream",
          "text": [
            "100%|██████████| 254/254 [06:02<00:00,  1.43s/it]\n",
            "100%|██████████| 29/29 [00:13<00:00,  2.21it/s]\n"
          ]
        },
        {
          "name": "stdout",
          "output_type": "stream",
          "text": [
            "              precision    recall  f1-score   support\n",
            "\n",
            "           0       0.96      0.94      0.95      2960\n",
            "           1       0.61      0.73      0.67       277\n",
            "           2       0.69      0.73      0.71       448\n",
            "\n",
            "    accuracy                           0.90      3685\n",
            "   macro avg       0.75      0.80      0.77      3685\n",
            "weighted avg       0.90      0.90      0.90      3685\n",
            "\n",
            "accuracy = 0.90\n",
            "model saved\n",
            "Epoch: 05 | Epoch Time: 6m 15s\n",
            "\tTrain Loss: 0.237 | Train acc: 91.38%\n",
            "\t Val. Loss: 0.308 |  Val. acc: 89.58%\n",
            "\t Val. Loss: 0.308 |  Val. F1: 77.50%\n",
            "=============Epoch Ended==============\n"
          ]
        },
        {
          "name": "stderr",
          "output_type": "stream",
          "text": [
            "100%|██████████| 254/254 [06:02<00:00,  1.43s/it]\n",
            "100%|██████████| 29/29 [00:13<00:00,  2.22it/s]\n"
          ]
        },
        {
          "name": "stdout",
          "output_type": "stream",
          "text": [
            "              precision    recall  f1-score   support\n",
            "\n",
            "           0       0.95      0.94      0.95      2912\n",
            "           1       0.63      0.66      0.64       312\n",
            "           2       0.69      0.72      0.71       461\n",
            "\n",
            "    accuracy                           0.89      3685\n",
            "   macro avg       0.76      0.77      0.76      3685\n",
            "weighted avg       0.89      0.89      0.89      3685\n",
            "\n",
            "accuracy = 0.89\n",
            "model saved\n",
            "Epoch: 06 | Epoch Time: 6m 15s\n",
            "\tTrain Loss: 0.196 | Train acc: 92.87%\n",
            "\t Val. Loss: 0.327 |  Val. acc: 88.87%\n",
            "\t Val. Loss: 0.327 |  Val. F1: 76.47%\n",
            "=============Epoch Ended==============\n"
          ]
        },
        {
          "name": "stderr",
          "output_type": "stream",
          "text": [
            "100%|██████████| 254/254 [06:01<00:00,  1.42s/it]\n",
            "100%|██████████| 29/29 [00:13<00:00,  2.21it/s]\n"
          ]
        },
        {
          "name": "stdout",
          "output_type": "stream",
          "text": [
            "              precision    recall  f1-score   support\n",
            "\n",
            "           0       0.93      0.95      0.94      2793\n",
            "           1       0.62      0.62      0.62       330\n",
            "           2       0.77      0.65      0.71       562\n",
            "\n",
            "    accuracy                           0.88      3685\n",
            "   macro avg       0.77      0.74      0.75      3685\n",
            "weighted avg       0.87      0.88      0.88      3685\n",
            "\n",
            "accuracy = 0.88\n",
            "model saved\n",
            "Epoch: 07 | Epoch Time: 6m 14s\n",
            "\tTrain Loss: 0.158 | Train acc: 94.18%\n",
            "\t Val. Loss: 0.386 |  Val. acc: 87.79%\n",
            "\t Val. Loss: 0.386 |  Val. F1: 75.50%\n",
            "=============Epoch Ended==============\n"
          ]
        },
        {
          "name": "stderr",
          "output_type": "stream",
          "text": [
            "100%|██████████| 254/254 [06:01<00:00,  1.42s/it]\n",
            "100%|██████████| 29/29 [00:13<00:00,  2.21it/s]\n"
          ]
        },
        {
          "name": "stdout",
          "output_type": "stream",
          "text": [
            "              precision    recall  f1-score   support\n",
            "\n",
            "           0       0.94      0.95      0.94      2848\n",
            "           1       0.63      0.63      0.63       329\n",
            "           2       0.72      0.68      0.70       508\n",
            "\n",
            "    accuracy                           0.88      3685\n",
            "   macro avg       0.76      0.75      0.76      3685\n",
            "weighted avg       0.88      0.88      0.88      3685\n",
            "\n",
            "accuracy = 0.88\n",
            "model saved\n",
            "Epoch: 08 | Epoch Time: 6m 14s\n",
            "\tTrain Loss: 0.121 | Train acc: 95.70%\n",
            "\t Val. Loss: 0.420 |  Val. acc: 88.09%\n",
            "\t Val. Loss: 0.420 |  Val. F1: 75.57%\n",
            "=============Epoch Ended==============\n"
          ]
        },
        {
          "name": "stderr",
          "output_type": "stream",
          "text": [
            " 36%|███▌      | 92/254 [02:10<03:49,  1.42s/it]"
          ]
        }
      ],
      "source": [
        "epochs = 20\n",
        "\n",
        "for epoch in range(epochs):\n",
        "\n",
        "    start_time = time.time()\n",
        "    train_loss,train_acc = train()\n",
        "    valid_loss,valid_acc,macro_f1 = eval()\n",
        "    end_time = time.time()\n",
        "\n",
        "\n",
        "    epoch_mins, epoch_secs = epoch_time(start_time, end_time)\n",
        "\n",
        "    torch.save(phoBert,f'{epoch}_phobert_cnn_model_part1_'+'task2a_2.pt')\n",
        "    torch.save(cnn,f'{epoch}_phobert_cnn_model_part2_'+'task2a_2.pt')\n",
        "    print(\"model saved\")\n",
        "\n",
        "    print(f'Epoch: {epoch+1:02} | Epoch Time: {epoch_mins}m {epoch_secs}s')\n",
        "    print(f'\\tTrain Loss: {train_loss:.3f} | Train acc: {train_acc*100:.2f}%')\n",
        "    print(f'\\t Val. Loss: {valid_loss:.3f} |  Val. acc: {valid_acc*100:.2f}%')\n",
        "    print(f'\\t Val. Loss: {valid_loss:.3f} |  Val. F1: {macro_f1*100:.2f}%')\n",
        "    print('=============Epoch Ended==============')"
      ]
    },
    {
      "cell_type": "code",
      "execution_count": null,
      "metadata": {
        "colab": {
          "base_uri": "https://localhost:8080/"
        },
        "id": "ZfHllZjgM5uw",
        "outputId": "80a8f6a3-f8d0-4c18-b465-42cef968d1a9"
      },
      "outputs": [
        {
          "name": "stderr",
          "output_type": "stream",
          "text": [
            "100%|██████████| 254/254 [04:10<00:00,  1.01it/s]\n",
            "100%|██████████| 29/29 [00:09<00:00,  3.12it/s]\n",
            "/usr/local/lib/python3.10/dist-packages/sklearn/metrics/_classification.py:1344: UndefinedMetricWarning: Recall and F-score are ill-defined and being set to 0.0 in labels with no true samples. Use `zero_division` parameter to control this behavior.\n",
            "  _warn_prf(average, modifier, msg_start, len(result))\n",
            "/usr/local/lib/python3.10/dist-packages/sklearn/metrics/_classification.py:1344: UndefinedMetricWarning: Recall and F-score are ill-defined and being set to 0.0 in labels with no true samples. Use `zero_division` parameter to control this behavior.\n",
            "  _warn_prf(average, modifier, msg_start, len(result))\n",
            "/usr/local/lib/python3.10/dist-packages/sklearn/metrics/_classification.py:1344: UndefinedMetricWarning: Recall and F-score are ill-defined and being set to 0.0 in labels with no true samples. Use `zero_division` parameter to control this behavior.\n",
            "  _warn_prf(average, modifier, msg_start, len(result))\n"
          ]
        },
        {
          "name": "stdout",
          "output_type": "stream",
          "text": [
            "              precision    recall  f1-score   support\n",
            "\n",
            "           0       0.94      0.92      0.93      2931\n",
            "           1       0.00      0.00      0.00         0\n",
            "           2       0.74      0.47      0.58       754\n",
            "\n",
            "    accuracy                           0.83      3685\n",
            "   macro avg       0.56      0.47      0.50      3685\n",
            "weighted avg       0.90      0.83      0.86      3685\n",
            "\n",
            "accuracy = 0.83\n",
            "model saved\n",
            "Epoch: 01 | Epoch Time: 4m 20s\n",
            "\tTrain Loss: 0.552 | Train acc: 80.12%\n",
            "\t Val. Loss: 0.436 |  Val. acc: 83.09%\n",
            "\t Val. Loss: 0.436 |  Val. F1: 50.30%\n",
            "=============Epoch Ended==============\n"
          ]
        },
        {
          "name": "stderr",
          "output_type": "stream",
          "text": [
            "100%|██████████| 254/254 [04:18<00:00,  1.02s/it]\n",
            "100%|██████████| 29/29 [00:09<00:00,  3.11it/s]\n"
          ]
        },
        {
          "name": "stdout",
          "output_type": "stream",
          "text": [
            "              precision    recall  f1-score   support\n",
            "\n",
            "           0       0.97      0.92      0.95      3012\n",
            "           1       0.39      0.80      0.52       159\n",
            "           2       0.68      0.63      0.66       514\n",
            "\n",
            "    accuracy                           0.88      3685\n",
            "   macro avg       0.68      0.79      0.71      3685\n",
            "weighted avg       0.90      0.88      0.89      3685\n",
            "\n",
            "accuracy = 0.88\n",
            "model saved\n",
            "Epoch: 02 | Epoch Time: 4m 27s\n",
            "\tTrain Loss: 0.400 | Train acc: 85.69%\n",
            "\t Val. Loss: 0.346 |  Val. acc: 87.84%\n",
            "\t Val. Loss: 0.346 |  Val. F1: 70.74%\n",
            "=============Epoch Ended==============\n"
          ]
        },
        {
          "name": "stderr",
          "output_type": "stream",
          "text": [
            "100%|██████████| 254/254 [04:17<00:00,  1.02s/it]\n",
            "100%|██████████| 29/29 [00:09<00:00,  3.12it/s]\n"
          ]
        },
        {
          "name": "stdout",
          "output_type": "stream",
          "text": [
            "              precision    recall  f1-score   support\n",
            "\n",
            "           0       0.96      0.93      0.95      2956\n",
            "           1       0.45      0.79      0.58       189\n",
            "           2       0.73      0.65      0.68       540\n",
            "\n",
            "    accuracy                           0.88      3685\n",
            "   macro avg       0.71      0.79      0.74      3685\n",
            "weighted avg       0.90      0.88      0.89      3685\n",
            "\n",
            "accuracy = 0.88\n",
            "model saved\n",
            "Epoch: 03 | Epoch Time: 4m 27s\n",
            "\tTrain Loss: 0.345 | Train acc: 87.41%\n",
            "\t Val. Loss: 0.329 |  Val. acc: 88.44%\n",
            "\t Val. Loss: 0.329 |  Val. F1: 73.55%\n",
            "=============Epoch Ended==============\n"
          ]
        },
        {
          "name": "stderr",
          "output_type": "stream",
          "text": [
            "100%|██████████| 254/254 [04:17<00:00,  1.01s/it]\n",
            "100%|██████████| 29/29 [00:09<00:00,  3.12it/s]\n"
          ]
        },
        {
          "name": "stdout",
          "output_type": "stream",
          "text": [
            "              precision    recall  f1-score   support\n",
            "\n",
            "           0       0.93      0.95      0.94      2814\n",
            "           1       0.62      0.66      0.64       306\n",
            "           2       0.73      0.62      0.67       565\n",
            "\n",
            "    accuracy                           0.88      3685\n",
            "   macro avg       0.76      0.74      0.75      3685\n",
            "weighted avg       0.87      0.88      0.87      3685\n",
            "\n",
            "accuracy = 0.88\n",
            "model saved\n",
            "Epoch: 04 | Epoch Time: 4m 26s\n",
            "\tTrain Loss: 0.317 | Train acc: 88.44%\n",
            "\t Val. Loss: 0.340 |  Val. acc: 87.60%\n",
            "\t Val. Loss: 0.340 |  Val. F1: 74.98%\n",
            "=============Epoch Ended==============\n"
          ]
        },
        {
          "name": "stderr",
          "output_type": "stream",
          "text": [
            "100%|██████████| 254/254 [04:17<00:00,  1.01s/it]\n",
            "100%|██████████| 29/29 [00:09<00:00,  3.11it/s]\n"
          ]
        },
        {
          "name": "stdout",
          "output_type": "stream",
          "text": [
            "              precision    recall  f1-score   support\n",
            "\n",
            "           0       0.95      0.94      0.95      2886\n",
            "           1       0.60      0.68      0.64       288\n",
            "           2       0.72      0.67      0.69       511\n",
            "\n",
            "    accuracy                           0.89      3685\n",
            "   macro avg       0.75      0.77      0.76      3685\n",
            "weighted avg       0.89      0.89      0.89      3685\n",
            "\n",
            "accuracy = 0.89\n",
            "model saved\n",
            "Epoch: 05 | Epoch Time: 4m 26s\n",
            "\tTrain Loss: 0.282 | Train acc: 89.53%\n",
            "\t Val. Loss: 0.316 |  Val. acc: 88.63%\n",
            "\t Val. Loss: 0.316 |  Val. F1: 75.96%\n",
            "=============Epoch Ended==============\n"
          ]
        },
        {
          "name": "stderr",
          "output_type": "stream",
          "text": [
            "100%|██████████| 254/254 [04:17<00:00,  1.02s/it]\n",
            "100%|██████████| 29/29 [00:09<00:00,  3.12it/s]\n"
          ]
        },
        {
          "name": "stdout",
          "output_type": "stream",
          "text": [
            "              precision    recall  f1-score   support\n",
            "\n",
            "           0       0.97      0.93      0.95      2995\n",
            "           1       0.62      0.69      0.65       294\n",
            "           2       0.64      0.77      0.70       396\n",
            "\n",
            "    accuracy                           0.90      3685\n",
            "   macro avg       0.74      0.80      0.77      3685\n",
            "weighted avg       0.91      0.90      0.90      3685\n",
            "\n",
            "accuracy = 0.90\n",
            "model saved\n",
            "Epoch: 06 | Epoch Time: 4m 27s\n",
            "\tTrain Loss: 0.250 | Train acc: 90.66%\n",
            "\t Val. Loss: 0.316 |  Val. acc: 89.61%\n",
            "\t Val. Loss: 0.316 |  Val. F1: 76.76%\n",
            "=============Epoch Ended==============\n"
          ]
        },
        {
          "name": "stderr",
          "output_type": "stream",
          "text": [
            "100%|██████████| 254/254 [04:17<00:00,  1.01s/it]\n",
            "100%|██████████| 29/29 [00:09<00:00,  3.11it/s]\n"
          ]
        },
        {
          "name": "stdout",
          "output_type": "stream",
          "text": [
            "              precision    recall  f1-score   support\n",
            "\n",
            "           0       0.93      0.95      0.94      2807\n",
            "           1       0.59      0.63      0.61       310\n",
            "           2       0.75      0.64      0.69       568\n",
            "\n",
            "    accuracy                           0.88      3685\n",
            "   macro avg       0.76      0.74      0.75      3685\n",
            "weighted avg       0.87      0.88      0.87      3685\n",
            "\n",
            "accuracy = 0.88\n",
            "Epoch: 07 | Epoch Time: 4m 26s\n",
            "\tTrain Loss: 0.223 | Train acc: 91.73%\n",
            "\t Val. Loss: 0.358 |  Val. acc: 87.52%\n",
            "\t Val. Loss: 0.358 |  Val. F1: 74.58%\n",
            "=============Epoch Ended==============\n"
          ]
        },
        {
          "name": "stderr",
          "output_type": "stream",
          "text": [
            "100%|██████████| 254/254 [04:17<00:00,  1.01s/it]\n",
            "100%|██████████| 29/29 [00:09<00:00,  3.12it/s]\n"
          ]
        },
        {
          "name": "stdout",
          "output_type": "stream",
          "text": [
            "              precision    recall  f1-score   support\n",
            "\n",
            "           0       0.94      0.94      0.94      2855\n",
            "           1       0.64      0.64      0.64       326\n",
            "           2       0.71      0.68      0.70       504\n",
            "\n",
            "    accuracy                           0.88      3685\n",
            "   macro avg       0.76      0.76      0.76      3685\n",
            "weighted avg       0.88      0.88      0.88      3685\n",
            "\n",
            "accuracy = 0.88\n",
            "Epoch: 08 | Epoch Time: 4m 26s\n",
            "\tTrain Loss: 0.186 | Train acc: 93.13%\n",
            "\t Val. Loss: 0.358 |  Val. acc: 88.17%\n",
            "\t Val. Loss: 0.358 |  Val. F1: 75.88%\n",
            "=============Epoch Ended==============\n"
          ]
        },
        {
          "name": "stderr",
          "output_type": "stream",
          "text": [
            "100%|██████████| 254/254 [04:16<00:00,  1.01s/it]\n",
            "100%|██████████| 29/29 [00:09<00:00,  3.13it/s]\n"
          ]
        },
        {
          "name": "stdout",
          "output_type": "stream",
          "text": [
            "              precision    recall  f1-score   support\n",
            "\n",
            "           0       0.92      0.95      0.94      2784\n",
            "           1       0.62      0.58      0.60       351\n",
            "           2       0.73      0.64      0.68       550\n",
            "\n",
            "    accuracy                           0.87      3685\n",
            "   macro avg       0.76      0.72      0.74      3685\n",
            "weighted avg       0.86      0.87      0.87      3685\n",
            "\n",
            "accuracy = 0.87\n",
            "Epoch: 09 | Epoch Time: 4m 26s\n",
            "\tTrain Loss: 0.154 | Train acc: 94.26%\n",
            "\t Val. Loss: 0.407 |  Val. acc: 86.95%\n",
            "\t Val. Loss: 0.407 |  Val. F1: 73.78%\n",
            "=============Epoch Ended==============\n"
          ]
        },
        {
          "name": "stderr",
          "output_type": "stream",
          "text": [
            "100%|██████████| 254/254 [04:16<00:00,  1.01s/it]\n",
            "100%|██████████| 29/29 [00:09<00:00,  3.12it/s]\n"
          ]
        },
        {
          "name": "stdout",
          "output_type": "stream",
          "text": [
            "              precision    recall  f1-score   support\n",
            "\n",
            "           0       0.92      0.95      0.94      2780\n",
            "           1       0.62      0.59      0.61       348\n",
            "           2       0.73      0.63      0.68       557\n",
            "\n",
            "    accuracy                           0.87      3685\n",
            "   macro avg       0.76      0.72      0.74      3685\n",
            "weighted avg       0.86      0.87      0.87      3685\n",
            "\n",
            "accuracy = 0.87\n",
            "Epoch: 10 | Epoch Time: 4m 25s\n",
            "\tTrain Loss: 0.126 | Train acc: 95.61%\n",
            "\t Val. Loss: 0.432 |  Val. acc: 87.00%\n",
            "\t Val. Loss: 0.432 |  Val. F1: 73.99%\n",
            "=============Epoch Ended==============\n"
          ]
        },
        {
          "name": "stderr",
          "output_type": "stream",
          "text": [
            "100%|██████████| 254/254 [04:16<00:00,  1.01s/it]\n",
            "100%|██████████| 29/29 [00:09<00:00,  3.12it/s]\n"
          ]
        },
        {
          "name": "stdout",
          "output_type": "stream",
          "text": [
            "              precision    recall  f1-score   support\n",
            "\n",
            "           0       0.91      0.95      0.93      2754\n",
            "           1       0.68      0.50      0.58       444\n",
            "           2       0.68      0.67      0.68       487\n",
            "\n",
            "    accuracy                           0.86      3685\n",
            "   macro avg       0.76      0.71      0.73      3685\n",
            "weighted avg       0.86      0.86      0.86      3685\n",
            "\n",
            "accuracy = 0.86\n",
            "Epoch: 11 | Epoch Time: 4m 25s\n",
            "\tTrain Loss: 0.103 | Train acc: 96.40%\n",
            "\t Val. Loss: 0.479 |  Val. acc: 86.30%\n",
            "\t Val. Loss: 0.479 |  Val. F1: 72.99%\n",
            "=============Epoch Ended==============\n"
          ]
        },
        {
          "name": "stderr",
          "output_type": "stream",
          "text": [
            "100%|██████████| 254/254 [04:16<00:00,  1.01s/it]\n",
            "100%|██████████| 29/29 [00:09<00:00,  3.12it/s]\n"
          ]
        },
        {
          "name": "stdout",
          "output_type": "stream",
          "text": [
            "              precision    recall  f1-score   support\n",
            "\n",
            "           0       0.92      0.95      0.94      2781\n",
            "           1       0.59      0.64      0.61       302\n",
            "           2       0.75      0.60      0.67       602\n",
            "\n",
            "    accuracy                           0.87      3685\n",
            "   macro avg       0.75      0.73      0.74      3685\n",
            "weighted avg       0.87      0.87      0.87      3685\n",
            "\n",
            "accuracy = 0.87\n",
            "Epoch: 12 | Epoch Time: 4m 25s\n",
            "\tTrain Loss: 0.083 | Train acc: 97.15%\n",
            "\t Val. Loss: 0.491 |  Val. acc: 86.84%\n",
            "\t Val. Loss: 0.491 |  Val. F1: 73.77%\n",
            "=============Epoch Ended==============\n"
          ]
        },
        {
          "name": "stderr",
          "output_type": "stream",
          "text": [
            "100%|██████████| 254/254 [04:15<00:00,  1.01s/it]\n",
            "100%|██████████| 29/29 [00:09<00:00,  3.12it/s]\n"
          ]
        },
        {
          "name": "stdout",
          "output_type": "stream",
          "text": [
            "              precision    recall  f1-score   support\n",
            "\n",
            "           0       0.93      0.94      0.94      2843\n",
            "           1       0.57      0.73      0.64       255\n",
            "           2       0.76      0.62      0.68       587\n",
            "\n",
            "    accuracy                           0.88      3685\n",
            "   macro avg       0.75      0.77      0.75      3685\n",
            "weighted avg       0.88      0.88      0.88      3685\n",
            "\n",
            "accuracy = 0.88\n",
            "Epoch: 13 | Epoch Time: 4m 25s\n",
            "\tTrain Loss: 0.068 | Train acc: 97.66%\n",
            "\t Val. Loss: 0.503 |  Val. acc: 87.82%\n",
            "\t Val. Loss: 0.503 |  Val. F1: 75.34%\n",
            "=============Epoch Ended==============\n"
          ]
        },
        {
          "name": "stderr",
          "output_type": "stream",
          "text": [
            "100%|██████████| 254/254 [04:15<00:00,  1.01s/it]\n",
            "100%|██████████| 29/29 [00:09<00:00,  3.12it/s]\n"
          ]
        },
        {
          "name": "stdout",
          "output_type": "stream",
          "text": [
            "              precision    recall  f1-score   support\n",
            "\n",
            "           0       0.92      0.95      0.93      2789\n",
            "           1       0.64      0.61      0.62       344\n",
            "           2       0.72      0.63      0.67       552\n",
            "\n",
            "    accuracy                           0.87      3685\n",
            "   macro avg       0.76      0.73      0.74      3685\n",
            "weighted avg       0.86      0.87      0.86      3685\n",
            "\n",
            "accuracy = 0.87\n",
            "Epoch: 14 | Epoch Time: 4m 25s\n",
            "\tTrain Loss: 0.066 | Train acc: 97.79%\n",
            "\t Val. Loss: 0.515 |  Val. acc: 86.81%\n",
            "\t Val. Loss: 0.515 |  Val. F1: 74.22%\n",
            "=============Epoch Ended==============\n"
          ]
        },
        {
          "name": "stderr",
          "output_type": "stream",
          "text": [
            "100%|██████████| 254/254 [04:15<00:00,  1.01s/it]\n",
            "100%|██████████| 29/29 [00:09<00:00,  3.12it/s]\n"
          ]
        },
        {
          "name": "stdout",
          "output_type": "stream",
          "text": [
            "              precision    recall  f1-score   support\n",
            "\n",
            "           0       0.93      0.95      0.94      2806\n",
            "           1       0.61      0.65      0.63       311\n",
            "           2       0.76      0.64      0.69       568\n",
            "\n",
            "    accuracy                           0.88      3685\n",
            "   macro avg       0.77      0.75      0.75      3685\n",
            "weighted avg       0.87      0.88      0.87      3685\n",
            "\n",
            "accuracy = 0.88\n",
            "Epoch: 15 | Epoch Time: 4m 25s\n",
            "\tTrain Loss: 0.056 | Train acc: 97.97%\n",
            "\t Val. Loss: 0.561 |  Val. acc: 87.60%\n",
            "\t Val. Loss: 0.561 |  Val. F1: 75.43%\n",
            "=============Epoch Ended==============\n"
          ]
        },
        {
          "name": "stderr",
          "output_type": "stream",
          "text": [
            "100%|██████████| 254/254 [04:15<00:00,  1.01s/it]\n",
            "100%|██████████| 29/29 [00:09<00:00,  3.12it/s]\n"
          ]
        },
        {
          "name": "stdout",
          "output_type": "stream",
          "text": [
            "              precision    recall  f1-score   support\n",
            "\n",
            "           0       0.92      0.95      0.93      2790\n",
            "           1       0.62      0.55      0.58       375\n",
            "           2       0.71      0.66      0.69       520\n",
            "\n",
            "    accuracy                           0.87      3685\n",
            "   macro avg       0.75      0.72      0.73      3685\n",
            "weighted avg       0.86      0.87      0.86      3685\n",
            "\n",
            "accuracy = 0.87\n",
            "Epoch: 16 | Epoch Time: 4m 25s\n",
            "\tTrain Loss: 0.042 | Train acc: 98.58%\n",
            "\t Val. Loss: 0.604 |  Val. acc: 86.65%\n",
            "\t Val. Loss: 0.604 |  Val. F1: 73.40%\n",
            "=============Epoch Ended==============\n"
          ]
        },
        {
          "name": "stderr",
          "output_type": "stream",
          "text": [
            "100%|██████████| 254/254 [04:15<00:00,  1.00s/it]\n",
            "100%|██████████| 29/29 [00:09<00:00,  3.12it/s]\n"
          ]
        },
        {
          "name": "stdout",
          "output_type": "stream",
          "text": [
            "              precision    recall  f1-score   support\n",
            "\n",
            "           0       0.93      0.95      0.94      2836\n",
            "           1       0.61      0.66      0.64       304\n",
            "           2       0.75      0.66      0.70       545\n",
            "\n",
            "    accuracy                           0.88      3685\n",
            "   macro avg       0.76      0.76      0.76      3685\n",
            "weighted avg       0.88      0.88      0.88      3685\n",
            "\n",
            "accuracy = 0.88\n",
            "Epoch: 17 | Epoch Time: 4m 24s\n",
            "\tTrain Loss: 0.039 | Train acc: 98.62%\n",
            "\t Val. Loss: 0.579 |  Val. acc: 88.09%\n",
            "\t Val. Loss: 0.579 |  Val. F1: 75.91%\n",
            "=============Epoch Ended==============\n"
          ]
        },
        {
          "name": "stderr",
          "output_type": "stream",
          "text": [
            "100%|██████████| 254/254 [04:15<00:00,  1.01s/it]\n",
            "100%|██████████| 29/29 [00:09<00:00,  3.12it/s]\n"
          ]
        },
        {
          "name": "stdout",
          "output_type": "stream",
          "text": [
            "              precision    recall  f1-score   support\n",
            "\n",
            "           0       0.93      0.94      0.94      2831\n",
            "           1       0.63      0.55      0.59       379\n",
            "           2       0.69      0.70      0.70       475\n",
            "\n",
            "    accuracy                           0.87      3685\n",
            "   macro avg       0.75      0.73      0.74      3685\n",
            "weighted avg       0.87      0.87      0.87      3685\n",
            "\n",
            "accuracy = 0.87\n",
            "Epoch: 18 | Epoch Time: 4m 24s\n",
            "\tTrain Loss: 0.038 | Train acc: 98.76%\n",
            "\t Val. Loss: 0.567 |  Val. acc: 87.27%\n",
            "\t Val. Loss: 0.567 |  Val. F1: 74.08%\n",
            "=============Epoch Ended==============\n"
          ]
        },
        {
          "name": "stderr",
          "output_type": "stream",
          "text": [
            "100%|██████████| 254/254 [04:15<00:00,  1.01s/it]\n",
            "100%|██████████| 29/29 [00:09<00:00,  3.12it/s]\n"
          ]
        },
        {
          "name": "stdout",
          "output_type": "stream",
          "text": [
            "              precision    recall  f1-score   support\n",
            "\n",
            "           0       0.92      0.95      0.93      2788\n",
            "           1       0.60      0.58      0.59       339\n",
            "           2       0.74      0.63      0.68       558\n",
            "\n",
            "    accuracy                           0.87      3685\n",
            "   macro avg       0.75      0.72      0.73      3685\n",
            "weighted avg       0.86      0.87      0.86      3685\n",
            "\n",
            "accuracy = 0.87\n",
            "Epoch: 19 | Epoch Time: 4m 24s\n",
            "\tTrain Loss: 0.033 | Train acc: 98.97%\n",
            "\t Val. Loss: 0.637 |  Val. acc: 86.68%\n",
            "\t Val. Loss: 0.637 |  Val. F1: 73.42%\n",
            "=============Epoch Ended==============\n"
          ]
        },
        {
          "name": "stderr",
          "output_type": "stream",
          "text": [
            "100%|██████████| 254/254 [04:15<00:00,  1.01s/it]\n",
            "100%|██████████| 29/29 [00:09<00:00,  3.12it/s]"
          ]
        },
        {
          "name": "stdout",
          "output_type": "stream",
          "text": [
            "              precision    recall  f1-score   support\n",
            "\n",
            "           0       0.91      0.95      0.93      2760\n",
            "           1       0.64      0.57      0.60       366\n",
            "           2       0.73      0.63      0.68       559\n",
            "\n",
            "    accuracy                           0.87      3685\n",
            "   macro avg       0.76      0.72      0.74      3685\n",
            "weighted avg       0.86      0.87      0.86      3685\n",
            "\n",
            "accuracy = 0.87\n",
            "Epoch: 20 | Epoch Time: 4m 24s\n",
            "\tTrain Loss: 0.030 | Train acc: 98.98%\n",
            "\t Val. Loss: 0.647 |  Val. acc: 86.51%\n",
            "\t Val. Loss: 0.647 |  Val. F1: 73.71%\n",
            "=============Epoch Ended==============\n"
          ]
        },
        {
          "name": "stderr",
          "output_type": "stream",
          "text": [
            "\n"
          ]
        }
      ],
      "source": [
        "epochs = 20\n",
        "\n",
        "best_macro_f1 = float('0')\n",
        "\n",
        "for epoch in range(epochs):\n",
        "\n",
        "    start_time = time.time()\n",
        "    train_loss,train_acc = train()\n",
        "    valid_loss,valid_acc,macro_f1 = eval()\n",
        "    end_time = time.time()\n",
        "\n",
        "\n",
        "    epoch_mins, epoch_secs = epoch_time(start_time, end_time)\n",
        "\n",
        "    if macro_f1 > best_macro_f1:\n",
        "        best_macro_f1 = macro_f1\n",
        "        torch.save(phoBert,'1_phobert_cnn_model_part1_'+'task2a_2.pt')\n",
        "        torch.save(cnn,'1_phobert_cnn_model_part2_'+'task2a_2.pt')\n",
        "        print(\"model saved\")\n",
        "\n",
        "    print(f'Epoch: {epoch+1:02} | Epoch Time: {epoch_mins}m {epoch_secs}s')\n",
        "    print(f'\\tTrain Loss: {train_loss:.3f} | Train acc: {train_acc*100:.2f}%')\n",
        "    print(f'\\t Val. Loss: {valid_loss:.3f} |  Val. acc: {valid_acc*100:.2f}%')\n",
        "    print(f'\\t Val. Loss: {valid_loss:.3f} |  Val. F1: {macro_f1*100:.2f}%')\n",
        "    print('=============Epoch Ended==============')"
      ]
    },
    {
      "cell_type": "code",
      "execution_count": null,
      "metadata": {
        "colab": {
          "background_save": true
        },
        "id": "KyQlcVfnCWHw"
      },
      "outputs": [],
      "source": [
        "# Save PhoBERT and CNN\n",
        "\n",
        "torch.save(phoBert,'module2_part1.pt')\n",
        "torch.save(cnn,'module2_part2.pt')"
      ]
    },
    {
      "cell_type": "markdown",
      "metadata": {
        "id": "FCzo5AKq8lka"
      },
      "source": [
        "## EVALUATING"
      ]
    },
    {
      "cell_type": "code",
      "execution_count": null,
      "metadata": {
        "colab": {
          "base_uri": "https://localhost:8080/",
          "height": 356
        },
        "id": "ftons15Hw8lB",
        "outputId": "338574dd-6647-4b18-885e-18bcee7128b7"
      },
      "outputs": [
        {
          "ename": "AttributeError",
          "evalue": "Can't get attribute 'CNN' on <module '__main__'>",
          "output_type": "error",
          "traceback": [
            "\u001b[0;31m---------------------------------------------------------------------------\u001b[0m",
            "\u001b[0;31mAttributeError\u001b[0m                            Traceback (most recent call last)",
            "\u001b[0;32m<ipython-input-19-956f7a046b63>\u001b[0m in \u001b[0;36m<cell line: 5>\u001b[0;34m()\u001b[0m\n\u001b[1;32m      3\u001b[0m \u001b[0;32mimport\u001b[0m \u001b[0mtorch\u001b[0m\u001b[0;34m\u001b[0m\u001b[0;34m\u001b[0m\u001b[0m\n\u001b[1;32m      4\u001b[0m \u001b[0mphoBert\u001b[0m \u001b[0;34m=\u001b[0m \u001b[0mtorch\u001b[0m\u001b[0;34m.\u001b[0m\u001b[0mload\u001b[0m\u001b[0;34m(\u001b[0m\u001b[0;34mr'/content/drive/MyDrive/data mining/1/1_phobert_cnn_model_part1_task2a_2.pt'\u001b[0m\u001b[0;34m,\u001b[0m \u001b[0mmap_location\u001b[0m\u001b[0;34m=\u001b[0m\u001b[0;34m'cpu'\u001b[0m\u001b[0;34m)\u001b[0m\u001b[0;34m\u001b[0m\u001b[0;34m\u001b[0m\u001b[0m\n\u001b[0;32m----> 5\u001b[0;31m \u001b[0mcnn\u001b[0m \u001b[0;34m=\u001b[0m \u001b[0mtorch\u001b[0m\u001b[0;34m.\u001b[0m\u001b[0mload\u001b[0m\u001b[0;34m(\u001b[0m\u001b[0;34mr'/content/drive/MyDrive/data mining/1/1_phobert_cnn_model_part2_task2a_2.pt'\u001b[0m\u001b[0;34m,\u001b[0m \u001b[0mmap_location\u001b[0m\u001b[0;34m=\u001b[0m\u001b[0;34m'cpu'\u001b[0m\u001b[0;34m)\u001b[0m\u001b[0;34m\u001b[0m\u001b[0;34m\u001b[0m\u001b[0m\n\u001b[0m\u001b[1;32m      6\u001b[0m \u001b[0mphoBert\u001b[0m\u001b[0;34m.\u001b[0m\u001b[0meval\u001b[0m\u001b[0;34m(\u001b[0m\u001b[0;34m)\u001b[0m\u001b[0;34m\u001b[0m\u001b[0;34m\u001b[0m\u001b[0m\n\u001b[1;32m      7\u001b[0m \u001b[0mcnn\u001b[0m\u001b[0;34m.\u001b[0m\u001b[0meval\u001b[0m\u001b[0;34m(\u001b[0m\u001b[0;34m)\u001b[0m\u001b[0;34m\u001b[0m\u001b[0;34m\u001b[0m\u001b[0m\n",
            "\u001b[0;32m/usr/local/lib/python3.10/dist-packages/torch/serialization.py\u001b[0m in \u001b[0;36mload\u001b[0;34m(f, map_location, pickle_module, weights_only, mmap, **pickle_load_args)\u001b[0m\n\u001b[1;32m   1024\u001b[0m                     \u001b[0;32mexcept\u001b[0m \u001b[0mRuntimeError\u001b[0m \u001b[0;32mas\u001b[0m \u001b[0me\u001b[0m\u001b[0;34m:\u001b[0m\u001b[0;34m\u001b[0m\u001b[0;34m\u001b[0m\u001b[0m\n\u001b[1;32m   1025\u001b[0m                         \u001b[0;32mraise\u001b[0m \u001b[0mpickle\u001b[0m\u001b[0;34m.\u001b[0m\u001b[0mUnpicklingError\u001b[0m\u001b[0;34m(\u001b[0m\u001b[0mUNSAFE_MESSAGE\u001b[0m \u001b[0;34m+\u001b[0m \u001b[0mstr\u001b[0m\u001b[0;34m(\u001b[0m\u001b[0me\u001b[0m\u001b[0;34m)\u001b[0m\u001b[0;34m)\u001b[0m \u001b[0;32mfrom\u001b[0m \u001b[0;32mNone\u001b[0m\u001b[0;34m\u001b[0m\u001b[0;34m\u001b[0m\u001b[0m\n\u001b[0;32m-> 1026\u001b[0;31m                 return _load(opened_zipfile,\n\u001b[0m\u001b[1;32m   1027\u001b[0m                              \u001b[0mmap_location\u001b[0m\u001b[0;34m,\u001b[0m\u001b[0;34m\u001b[0m\u001b[0;34m\u001b[0m\u001b[0m\n\u001b[1;32m   1028\u001b[0m                              \u001b[0mpickle_module\u001b[0m\u001b[0;34m,\u001b[0m\u001b[0;34m\u001b[0m\u001b[0;34m\u001b[0m\u001b[0m\n",
            "\u001b[0;32m/usr/local/lib/python3.10/dist-packages/torch/serialization.py\u001b[0m in \u001b[0;36m_load\u001b[0;34m(zip_file, map_location, pickle_module, pickle_file, overall_storage, **pickle_load_args)\u001b[0m\n\u001b[1;32m   1436\u001b[0m     \u001b[0munpickler\u001b[0m \u001b[0;34m=\u001b[0m \u001b[0mUnpicklerWrapper\u001b[0m\u001b[0;34m(\u001b[0m\u001b[0mdata_file\u001b[0m\u001b[0;34m,\u001b[0m \u001b[0;34m**\u001b[0m\u001b[0mpickle_load_args\u001b[0m\u001b[0;34m)\u001b[0m\u001b[0;34m\u001b[0m\u001b[0;34m\u001b[0m\u001b[0m\n\u001b[1;32m   1437\u001b[0m     \u001b[0munpickler\u001b[0m\u001b[0;34m.\u001b[0m\u001b[0mpersistent_load\u001b[0m \u001b[0;34m=\u001b[0m \u001b[0mpersistent_load\u001b[0m\u001b[0;34m\u001b[0m\u001b[0;34m\u001b[0m\u001b[0m\n\u001b[0;32m-> 1438\u001b[0;31m     \u001b[0mresult\u001b[0m \u001b[0;34m=\u001b[0m \u001b[0munpickler\u001b[0m\u001b[0;34m.\u001b[0m\u001b[0mload\u001b[0m\u001b[0;34m(\u001b[0m\u001b[0;34m)\u001b[0m\u001b[0;34m\u001b[0m\u001b[0;34m\u001b[0m\u001b[0m\n\u001b[0m\u001b[1;32m   1439\u001b[0m \u001b[0;34m\u001b[0m\u001b[0m\n\u001b[1;32m   1440\u001b[0m     \u001b[0mtorch\u001b[0m\u001b[0;34m.\u001b[0m\u001b[0m_utils\u001b[0m\u001b[0;34m.\u001b[0m\u001b[0m_validate_loaded_sparse_tensors\u001b[0m\u001b[0;34m(\u001b[0m\u001b[0;34m)\u001b[0m\u001b[0;34m\u001b[0m\u001b[0;34m\u001b[0m\u001b[0m\n",
            "\u001b[0;32m/usr/local/lib/python3.10/dist-packages/torch/serialization.py\u001b[0m in \u001b[0;36mfind_class\u001b[0;34m(self, mod_name, name)\u001b[0m\n\u001b[1;32m   1429\u001b[0m                     \u001b[0;32mpass\u001b[0m\u001b[0;34m\u001b[0m\u001b[0;34m\u001b[0m\u001b[0m\n\u001b[1;32m   1430\u001b[0m             \u001b[0mmod_name\u001b[0m \u001b[0;34m=\u001b[0m \u001b[0mload_module_mapping\u001b[0m\u001b[0;34m.\u001b[0m\u001b[0mget\u001b[0m\u001b[0;34m(\u001b[0m\u001b[0mmod_name\u001b[0m\u001b[0;34m,\u001b[0m \u001b[0mmod_name\u001b[0m\u001b[0;34m)\u001b[0m\u001b[0;34m\u001b[0m\u001b[0;34m\u001b[0m\u001b[0m\n\u001b[0;32m-> 1431\u001b[0;31m             \u001b[0;32mreturn\u001b[0m \u001b[0msuper\u001b[0m\u001b[0;34m(\u001b[0m\u001b[0;34m)\u001b[0m\u001b[0;34m.\u001b[0m\u001b[0mfind_class\u001b[0m\u001b[0;34m(\u001b[0m\u001b[0mmod_name\u001b[0m\u001b[0;34m,\u001b[0m \u001b[0mname\u001b[0m\u001b[0;34m)\u001b[0m\u001b[0;34m\u001b[0m\u001b[0;34m\u001b[0m\u001b[0m\n\u001b[0m\u001b[1;32m   1432\u001b[0m \u001b[0;34m\u001b[0m\u001b[0m\n\u001b[1;32m   1433\u001b[0m     \u001b[0;31m# Load the data (which may in turn use `persistent_load` to load tensors)\u001b[0m\u001b[0;34m\u001b[0m\u001b[0;34m\u001b[0m\u001b[0m\n",
            "\u001b[0;31mAttributeError\u001b[0m: Can't get attribute 'CNN' on <module '__main__'>"
          ]
        }
      ],
      "source": [
        "# Load phobert and cnn\n",
        "# 1 -> 7\n",
        "import torch\n",
        "phoBert = torch.load(r'1_phobert_cnn_model_part1_task2a_2.pt', map_location='cpu')\n",
        "cnn = torch.load(r'1_phobert_cnn_model_part2_task2a_2.pt', map_location='cpu')\n",
        "phoBert.eval()\n",
        "cnn.eval()\n"
      ]
    },
    {
      "cell_type": "markdown",
      "metadata": {
        "id": "N6sFPdMFlPRp"
      },
      "source": [
        "Predict label from true label"
      ]
    },
    {
      "cell_type": "code",
      "execution_count": null,
      "metadata": {
        "colab": {
          "base_uri": "https://localhost:8080/"
        },
        "id": "U9Co-AvE_Ehq",
        "outputId": "a47eed4d-f2f0-4e49-e216-268e935dfd86"
      },
      "outputs": [
        {
          "name": "stderr",
          "output_type": "stream",
          "text": [
            "/usr/local/lib/python3.10/dist-packages/transformers/tokenization_utils_base.py:2674: FutureWarning: The `pad_to_max_length` argument is deprecated and will be removed in a future version, use `padding=True` or `padding='longest'` to pad to the longest sequence in the batch, or use `padding='max_length'` to pad to a max length. In this case, you can give a specific length with `max_length` (e.g. `max_length=45`) or leave max_length to None to pad to the maximal input size of the model (e.g. 512 for Bert).\n",
            "  warnings.warn(\n",
            "100%|██████████| 73/73 [00:22<00:00,  3.31it/s]\n"
          ]
        }
      ],
      "source": [
        "test_sent_index, test_input_ids, test_attention_masks, test_encoded_label_tensors = encoder_generator(test_sentences,test_labels)\n",
        "test_dataset = TensorDataset(test_input_ids,test_attention_masks,test_encoded_label_tensors)\n",
        "\n",
        "test_data_loader = DataLoader(test_dataset,\n",
        "                              sampler=RandomSampler(test_dataset),\n",
        "                              batch_size=bs)\n",
        "\n",
        "all_pred_labels = []\n",
        "all_true_labels = []\n",
        "\n",
        "with torch.no_grad():\n",
        "  for batch in tqdm(test_data_loader):\n",
        "    b_input_ids = batch[0].to(device)\n",
        "    b_input_mask = batch[1].to(device)\n",
        "    b_labels = batch[2].to(device)\n",
        "\n",
        "    embedded = phoBert(b_input_ids,b_input_mask)[0]\n",
        "    predictions = cnn(embedded)\n",
        "\n",
        "\n",
        "    predictions = predictions.detach().cpu().numpy()\n",
        "\n",
        "    label_ids = b_labels.to('cpu').numpy()\n",
        "\n",
        "    pred, true = predictions_labels(predictions, label_ids)\n",
        "\n",
        "    all_pred_labels.extend(pred)\n",
        "    all_true_labels.extend(true)"
      ]
    },
    {
      "cell_type": "code",
      "execution_count": null,
      "metadata": {
        "colab": {
          "base_uri": "https://localhost:8080/"
        },
        "id": "ESaLntjdAfYF",
        "outputId": "3ff7ded1-4c97-493a-83bc-016999ff0150"
      },
      "outputs": [
        {
          "name": "stdout",
          "output_type": "stream",
          "text": [
            "              precision    recall  f1-score   support\n",
            "\n",
            "           0     0.9719    0.9190    0.9447      7802\n",
            "           1     0.5040    0.5511    0.5265       577\n",
            "           2     0.5485    0.7610    0.6375       958\n",
            "\n",
            "    accuracy                         0.8800      9337\n",
            "   macro avg     0.6748    0.7437    0.7029      9337\n",
            "weighted avg     0.8996    0.8800    0.8874      9337\n",
            "\n"
          ]
        }
      ],
      "source": [
        "# The final score in the test set (classification report)\n",
        "\n",
        "print(classification_report(all_pred_labels,all_true_labels, digits = 4))"
      ]
    },
    {
      "cell_type": "code",
      "execution_count": null,
      "metadata": {
        "colab": {
          "base_uri": "https://localhost:8080/"
        },
        "id": "2zqXgAK1zy6Y",
        "outputId": "54ae4c22-c150-4386-f110-c4e84a70bc4b"
      },
      "outputs": [
        {
          "data": {
            "text/plain": [
              "array([[7170,   81,  126],\n",
              "       [ 210,  318,  103],\n",
              "       [ 422,  178,  729]])"
            ]
          },
          "execution_count": 26,
          "metadata": {},
          "output_type": "execute_result"
        }
      ],
      "source": [
        "# Confusion matrix in thetest set\n",
        "\n",
        "from sklearn.metrics import confusion_matrix\n",
        "cm = confusion_matrix(all_true_labels, all_pred_labels)\n",
        "cm"
      ]
    }
  ],
  "metadata": {
    "colab": {
      "provenance": []
    },
    "kernelspec": {
      "display_name": "Python 3",
      "name": "python3"
    },
    "language_info": {
      "name": "python"
    },
    "widgets": {
      "application/vnd.jupyter.widget-state+json": {
        "00bd8f5f849649619252cbecb0891c9a": {
          "model_module": "@jupyter-widgets/controls",
          "model_module_version": "1.5.0",
          "model_name": "DescriptionStyleModel",
          "state": {
            "_model_module": "@jupyter-widgets/controls",
            "_model_module_version": "1.5.0",
            "_model_name": "DescriptionStyleModel",
            "_view_count": null,
            "_view_module": "@jupyter-widgets/base",
            "_view_module_version": "1.2.0",
            "_view_name": "StyleView",
            "description_width": ""
          }
        },
        "02a41a92137f456ca29a7e7ef13cc34e": {
          "model_module": "@jupyter-widgets/controls",
          "model_module_version": "1.5.0",
          "model_name": "FloatProgressModel",
          "state": {
            "_dom_classes": [],
            "_model_module": "@jupyter-widgets/controls",
            "_model_module_version": "1.5.0",
            "_model_name": "FloatProgressModel",
            "_view_count": null,
            "_view_module": "@jupyter-widgets/controls",
            "_view_module_version": "1.5.0",
            "_view_name": "ProgressView",
            "bar_style": "success",
            "description": "",
            "description_tooltip": null,
            "layout": "IPY_MODEL_26fb934334f04335bb47110796ad6101",
            "max": 895321,
            "min": 0,
            "orientation": "horizontal",
            "style": "IPY_MODEL_49c33cb8aec7479bafecaf48a4a74dd1",
            "value": 895321
          }
        },
        "096c9f26c87948de99fa2df279f3ed60": {
          "model_module": "@jupyter-widgets/controls",
          "model_module_version": "1.5.0",
          "model_name": "DescriptionStyleModel",
          "state": {
            "_model_module": "@jupyter-widgets/controls",
            "_model_module_version": "1.5.0",
            "_model_name": "DescriptionStyleModel",
            "_view_count": null,
            "_view_module": "@jupyter-widgets/base",
            "_view_module_version": "1.2.0",
            "_view_name": "StyleView",
            "description_width": ""
          }
        },
        "0c73e94db5a340d4a5e014c44a234677": {
          "model_module": "@jupyter-widgets/controls",
          "model_module_version": "1.5.0",
          "model_name": "ProgressStyleModel",
          "state": {
            "_model_module": "@jupyter-widgets/controls",
            "_model_module_version": "1.5.0",
            "_model_name": "ProgressStyleModel",
            "_view_count": null,
            "_view_module": "@jupyter-widgets/base",
            "_view_module_version": "1.2.0",
            "_view_name": "StyleView",
            "bar_color": null,
            "description_width": ""
          }
        },
        "0d62f1af775a4458a3a09b5af1147825": {
          "model_module": "@jupyter-widgets/controls",
          "model_module_version": "1.5.0",
          "model_name": "DescriptionStyleModel",
          "state": {
            "_model_module": "@jupyter-widgets/controls",
            "_model_module_version": "1.5.0",
            "_model_name": "DescriptionStyleModel",
            "_view_count": null,
            "_view_module": "@jupyter-widgets/base",
            "_view_module_version": "1.2.0",
            "_view_name": "StyleView",
            "description_width": ""
          }
        },
        "1400ac62e2a94c7096d86c0a9096ba9c": {
          "model_module": "@jupyter-widgets/controls",
          "model_module_version": "1.5.0",
          "model_name": "HTMLModel",
          "state": {
            "_dom_classes": [],
            "_model_module": "@jupyter-widgets/controls",
            "_model_module_version": "1.5.0",
            "_model_name": "HTMLModel",
            "_view_count": null,
            "_view_module": "@jupyter-widgets/controls",
            "_view_module_version": "1.5.0",
            "_view_name": "HTMLView",
            "description": "",
            "description_tooltip": null,
            "layout": "IPY_MODEL_88b2bae4b12f446a8dc78343c2631f1c",
            "placeholder": "​",
            "style": "IPY_MODEL_00bd8f5f849649619252cbecb0891c9a",
            "value": " 557/557 [00:00&lt;00:00, 30.4kB/s]"
          }
        },
        "1a7615b76f914a1cb49f40b6e03827e7": {
          "model_module": "@jupyter-widgets/controls",
          "model_module_version": "1.5.0",
          "model_name": "HBoxModel",
          "state": {
            "_dom_classes": [],
            "_model_module": "@jupyter-widgets/controls",
            "_model_module_version": "1.5.0",
            "_model_name": "HBoxModel",
            "_view_count": null,
            "_view_module": "@jupyter-widgets/controls",
            "_view_module_version": "1.5.0",
            "_view_name": "HBoxView",
            "box_style": "",
            "children": [
              "IPY_MODEL_63deabc46b3f435a935f69c8a8274648",
              "IPY_MODEL_ad983b1ebad042a992ac1bc250ee1ca4",
              "IPY_MODEL_1400ac62e2a94c7096d86c0a9096ba9c"
            ],
            "layout": "IPY_MODEL_f5328c05e355477ba782e3a0de1c76bd"
          }
        },
        "1aa1d9eae0b84343b4a709106502e5ed": {
          "model_module": "@jupyter-widgets/controls",
          "model_module_version": "1.5.0",
          "model_name": "HTMLModel",
          "state": {
            "_dom_classes": [],
            "_model_module": "@jupyter-widgets/controls",
            "_model_module_version": "1.5.0",
            "_model_name": "HTMLModel",
            "_view_count": null,
            "_view_module": "@jupyter-widgets/controls",
            "_view_module_version": "1.5.0",
            "_view_name": "HTMLView",
            "description": "",
            "description_tooltip": null,
            "layout": "IPY_MODEL_474f116020ad457690a8049ba7777dd4",
            "placeholder": "​",
            "style": "IPY_MODEL_20bad472bb66432eb0fc474099427e03",
            "value": " 1.14M/1.14M [00:00&lt;00:00, 22.7MB/s]"
          }
        },
        "1dc3047a8ff7423fa50e85cbe5857140": {
          "model_module": "@jupyter-widgets/base",
          "model_module_version": "1.2.0",
          "model_name": "LayoutModel",
          "state": {
            "_model_module": "@jupyter-widgets/base",
            "_model_module_version": "1.2.0",
            "_model_name": "LayoutModel",
            "_view_count": null,
            "_view_module": "@jupyter-widgets/base",
            "_view_module_version": "1.2.0",
            "_view_name": "LayoutView",
            "align_content": null,
            "align_items": null,
            "align_self": null,
            "border": null,
            "bottom": null,
            "display": null,
            "flex": null,
            "flex_flow": null,
            "grid_area": null,
            "grid_auto_columns": null,
            "grid_auto_flow": null,
            "grid_auto_rows": null,
            "grid_column": null,
            "grid_gap": null,
            "grid_row": null,
            "grid_template_areas": null,
            "grid_template_columns": null,
            "grid_template_rows": null,
            "height": null,
            "justify_content": null,
            "justify_items": null,
            "left": null,
            "margin": null,
            "max_height": null,
            "max_width": null,
            "min_height": null,
            "min_width": null,
            "object_fit": null,
            "object_position": null,
            "order": null,
            "overflow": null,
            "overflow_x": null,
            "overflow_y": null,
            "padding": null,
            "right": null,
            "top": null,
            "visibility": null,
            "width": null
          }
        },
        "20b836e429814a65a761871065363cb2": {
          "model_module": "@jupyter-widgets/controls",
          "model_module_version": "1.5.0",
          "model_name": "DescriptionStyleModel",
          "state": {
            "_model_module": "@jupyter-widgets/controls",
            "_model_module_version": "1.5.0",
            "_model_name": "DescriptionStyleModel",
            "_view_count": null,
            "_view_module": "@jupyter-widgets/base",
            "_view_module_version": "1.2.0",
            "_view_name": "StyleView",
            "description_width": ""
          }
        },
        "20bad472bb66432eb0fc474099427e03": {
          "model_module": "@jupyter-widgets/controls",
          "model_module_version": "1.5.0",
          "model_name": "DescriptionStyleModel",
          "state": {
            "_model_module": "@jupyter-widgets/controls",
            "_model_module_version": "1.5.0",
            "_model_name": "DescriptionStyleModel",
            "_view_count": null,
            "_view_module": "@jupyter-widgets/base",
            "_view_module_version": "1.2.0",
            "_view_name": "StyleView",
            "description_width": ""
          }
        },
        "26fb934334f04335bb47110796ad6101": {
          "model_module": "@jupyter-widgets/base",
          "model_module_version": "1.2.0",
          "model_name": "LayoutModel",
          "state": {
            "_model_module": "@jupyter-widgets/base",
            "_model_module_version": "1.2.0",
            "_model_name": "LayoutModel",
            "_view_count": null,
            "_view_module": "@jupyter-widgets/base",
            "_view_module_version": "1.2.0",
            "_view_name": "LayoutView",
            "align_content": null,
            "align_items": null,
            "align_self": null,
            "border": null,
            "bottom": null,
            "display": null,
            "flex": null,
            "flex_flow": null,
            "grid_area": null,
            "grid_auto_columns": null,
            "grid_auto_flow": null,
            "grid_auto_rows": null,
            "grid_column": null,
            "grid_gap": null,
            "grid_row": null,
            "grid_template_areas": null,
            "grid_template_columns": null,
            "grid_template_rows": null,
            "height": null,
            "justify_content": null,
            "justify_items": null,
            "left": null,
            "margin": null,
            "max_height": null,
            "max_width": null,
            "min_height": null,
            "min_width": null,
            "object_fit": null,
            "object_position": null,
            "order": null,
            "overflow": null,
            "overflow_x": null,
            "overflow_y": null,
            "padding": null,
            "right": null,
            "top": null,
            "visibility": null,
            "width": null
          }
        },
        "274bcb4a6b4544c38f46c7db3e6fa77e": {
          "model_module": "@jupyter-widgets/controls",
          "model_module_version": "1.5.0",
          "model_name": "HTMLModel",
          "state": {
            "_dom_classes": [],
            "_model_module": "@jupyter-widgets/controls",
            "_model_module_version": "1.5.0",
            "_model_name": "HTMLModel",
            "_view_count": null,
            "_view_module": "@jupyter-widgets/controls",
            "_view_module_version": "1.5.0",
            "_view_name": "HTMLView",
            "description": "",
            "description_tooltip": null,
            "layout": "IPY_MODEL_4734c2ff472847729defd5e8ccd16b49",
            "placeholder": "​",
            "style": "IPY_MODEL_b04372da3b1b402eaf1ef39d53754296",
            "value": "bpe.codes: 100%"
          }
        },
        "2ac349678dd74e63b0a5368bcf7c5eeb": {
          "model_module": "@jupyter-widgets/base",
          "model_module_version": "1.2.0",
          "model_name": "LayoutModel",
          "state": {
            "_model_module": "@jupyter-widgets/base",
            "_model_module_version": "1.2.0",
            "_model_name": "LayoutModel",
            "_view_count": null,
            "_view_module": "@jupyter-widgets/base",
            "_view_module_version": "1.2.0",
            "_view_name": "LayoutView",
            "align_content": null,
            "align_items": null,
            "align_self": null,
            "border": null,
            "bottom": null,
            "display": null,
            "flex": null,
            "flex_flow": null,
            "grid_area": null,
            "grid_auto_columns": null,
            "grid_auto_flow": null,
            "grid_auto_rows": null,
            "grid_column": null,
            "grid_gap": null,
            "grid_row": null,
            "grid_template_areas": null,
            "grid_template_columns": null,
            "grid_template_rows": null,
            "height": null,
            "justify_content": null,
            "justify_items": null,
            "left": null,
            "margin": null,
            "max_height": null,
            "max_width": null,
            "min_height": null,
            "min_width": null,
            "object_fit": null,
            "object_position": null,
            "order": null,
            "overflow": null,
            "overflow_x": null,
            "overflow_y": null,
            "padding": null,
            "right": null,
            "top": null,
            "visibility": null,
            "width": null
          }
        },
        "4051bb3a313043e3b453f9d89146d6f6": {
          "model_module": "@jupyter-widgets/controls",
          "model_module_version": "1.5.0",
          "model_name": "HTMLModel",
          "state": {
            "_dom_classes": [],
            "_model_module": "@jupyter-widgets/controls",
            "_model_module_version": "1.5.0",
            "_model_name": "HTMLModel",
            "_view_count": null,
            "_view_module": "@jupyter-widgets/controls",
            "_view_module_version": "1.5.0",
            "_view_name": "HTMLView",
            "description": "",
            "description_tooltip": null,
            "layout": "IPY_MODEL_1dc3047a8ff7423fa50e85cbe5857140",
            "placeholder": "​",
            "style": "IPY_MODEL_096c9f26c87948de99fa2df279f3ed60",
            "value": " 895k/895k [00:00&lt;00:00, 3.90MB/s]"
          }
        },
        "44081f898e7340198a67abf5dea447a9": {
          "model_module": "@jupyter-widgets/base",
          "model_module_version": "1.2.0",
          "model_name": "LayoutModel",
          "state": {
            "_model_module": "@jupyter-widgets/base",
            "_model_module_version": "1.2.0",
            "_model_name": "LayoutModel",
            "_view_count": null,
            "_view_module": "@jupyter-widgets/base",
            "_view_module_version": "1.2.0",
            "_view_name": "LayoutView",
            "align_content": null,
            "align_items": null,
            "align_self": null,
            "border": null,
            "bottom": null,
            "display": null,
            "flex": null,
            "flex_flow": null,
            "grid_area": null,
            "grid_auto_columns": null,
            "grid_auto_flow": null,
            "grid_auto_rows": null,
            "grid_column": null,
            "grid_gap": null,
            "grid_row": null,
            "grid_template_areas": null,
            "grid_template_columns": null,
            "grid_template_rows": null,
            "height": null,
            "justify_content": null,
            "justify_items": null,
            "left": null,
            "margin": null,
            "max_height": null,
            "max_width": null,
            "min_height": null,
            "min_width": null,
            "object_fit": null,
            "object_position": null,
            "order": null,
            "overflow": null,
            "overflow_x": null,
            "overflow_y": null,
            "padding": null,
            "right": null,
            "top": null,
            "visibility": null,
            "width": null
          }
        },
        "447ec07b25f34a34b8b564240c198474": {
          "model_module": "@jupyter-widgets/controls",
          "model_module_version": "1.5.0",
          "model_name": "ProgressStyleModel",
          "state": {
            "_model_module": "@jupyter-widgets/controls",
            "_model_module_version": "1.5.0",
            "_model_name": "ProgressStyleModel",
            "_view_count": null,
            "_view_module": "@jupyter-widgets/base",
            "_view_module_version": "1.2.0",
            "_view_name": "StyleView",
            "bar_color": null,
            "description_width": ""
          }
        },
        "4734c2ff472847729defd5e8ccd16b49": {
          "model_module": "@jupyter-widgets/base",
          "model_module_version": "1.2.0",
          "model_name": "LayoutModel",
          "state": {
            "_model_module": "@jupyter-widgets/base",
            "_model_module_version": "1.2.0",
            "_model_name": "LayoutModel",
            "_view_count": null,
            "_view_module": "@jupyter-widgets/base",
            "_view_module_version": "1.2.0",
            "_view_name": "LayoutView",
            "align_content": null,
            "align_items": null,
            "align_self": null,
            "border": null,
            "bottom": null,
            "display": null,
            "flex": null,
            "flex_flow": null,
            "grid_area": null,
            "grid_auto_columns": null,
            "grid_auto_flow": null,
            "grid_auto_rows": null,
            "grid_column": null,
            "grid_gap": null,
            "grid_row": null,
            "grid_template_areas": null,
            "grid_template_columns": null,
            "grid_template_rows": null,
            "height": null,
            "justify_content": null,
            "justify_items": null,
            "left": null,
            "margin": null,
            "max_height": null,
            "max_width": null,
            "min_height": null,
            "min_width": null,
            "object_fit": null,
            "object_position": null,
            "order": null,
            "overflow": null,
            "overflow_x": null,
            "overflow_y": null,
            "padding": null,
            "right": null,
            "top": null,
            "visibility": null,
            "width": null
          }
        },
        "474f116020ad457690a8049ba7777dd4": {
          "model_module": "@jupyter-widgets/base",
          "model_module_version": "1.2.0",
          "model_name": "LayoutModel",
          "state": {
            "_model_module": "@jupyter-widgets/base",
            "_model_module_version": "1.2.0",
            "_model_name": "LayoutModel",
            "_view_count": null,
            "_view_module": "@jupyter-widgets/base",
            "_view_module_version": "1.2.0",
            "_view_name": "LayoutView",
            "align_content": null,
            "align_items": null,
            "align_self": null,
            "border": null,
            "bottom": null,
            "display": null,
            "flex": null,
            "flex_flow": null,
            "grid_area": null,
            "grid_auto_columns": null,
            "grid_auto_flow": null,
            "grid_auto_rows": null,
            "grid_column": null,
            "grid_gap": null,
            "grid_row": null,
            "grid_template_areas": null,
            "grid_template_columns": null,
            "grid_template_rows": null,
            "height": null,
            "justify_content": null,
            "justify_items": null,
            "left": null,
            "margin": null,
            "max_height": null,
            "max_width": null,
            "min_height": null,
            "min_width": null,
            "object_fit": null,
            "object_position": null,
            "order": null,
            "overflow": null,
            "overflow_x": null,
            "overflow_y": null,
            "padding": null,
            "right": null,
            "top": null,
            "visibility": null,
            "width": null
          }
        },
        "49c33cb8aec7479bafecaf48a4a74dd1": {
          "model_module": "@jupyter-widgets/controls",
          "model_module_version": "1.5.0",
          "model_name": "ProgressStyleModel",
          "state": {
            "_model_module": "@jupyter-widgets/controls",
            "_model_module_version": "1.5.0",
            "_model_name": "ProgressStyleModel",
            "_view_count": null,
            "_view_module": "@jupyter-widgets/base",
            "_view_module_version": "1.2.0",
            "_view_name": "StyleView",
            "bar_color": null,
            "description_width": ""
          }
        },
        "52a040a29b8741cc843281e70bc3c54d": {
          "model_module": "@jupyter-widgets/base",
          "model_module_version": "1.2.0",
          "model_name": "LayoutModel",
          "state": {
            "_model_module": "@jupyter-widgets/base",
            "_model_module_version": "1.2.0",
            "_model_name": "LayoutModel",
            "_view_count": null,
            "_view_module": "@jupyter-widgets/base",
            "_view_module_version": "1.2.0",
            "_view_name": "LayoutView",
            "align_content": null,
            "align_items": null,
            "align_self": null,
            "border": null,
            "bottom": null,
            "display": null,
            "flex": null,
            "flex_flow": null,
            "grid_area": null,
            "grid_auto_columns": null,
            "grid_auto_flow": null,
            "grid_auto_rows": null,
            "grid_column": null,
            "grid_gap": null,
            "grid_row": null,
            "grid_template_areas": null,
            "grid_template_columns": null,
            "grid_template_rows": null,
            "height": null,
            "justify_content": null,
            "justify_items": null,
            "left": null,
            "margin": null,
            "max_height": null,
            "max_width": null,
            "min_height": null,
            "min_width": null,
            "object_fit": null,
            "object_position": null,
            "order": null,
            "overflow": null,
            "overflow_x": null,
            "overflow_y": null,
            "padding": null,
            "right": null,
            "top": null,
            "visibility": null,
            "width": null
          }
        },
        "62b39a895a9b461fa9383f66192b1bd6": {
          "model_module": "@jupyter-widgets/controls",
          "model_module_version": "1.5.0",
          "model_name": "HBoxModel",
          "state": {
            "_dom_classes": [],
            "_model_module": "@jupyter-widgets/controls",
            "_model_module_version": "1.5.0",
            "_model_name": "HBoxModel",
            "_view_count": null,
            "_view_module": "@jupyter-widgets/controls",
            "_view_module_version": "1.5.0",
            "_view_name": "HBoxView",
            "box_style": "",
            "children": [
              "IPY_MODEL_274bcb4a6b4544c38f46c7db3e6fa77e",
              "IPY_MODEL_bb55100fe5fc4e67b7c78fc96113efe9",
              "IPY_MODEL_1aa1d9eae0b84343b4a709106502e5ed"
            ],
            "layout": "IPY_MODEL_6a3605707cf74385bfef4d59fe25929d"
          }
        },
        "63deabc46b3f435a935f69c8a8274648": {
          "model_module": "@jupyter-widgets/controls",
          "model_module_version": "1.5.0",
          "model_name": "HTMLModel",
          "state": {
            "_dom_classes": [],
            "_model_module": "@jupyter-widgets/controls",
            "_model_module_version": "1.5.0",
            "_model_name": "HTMLModel",
            "_view_count": null,
            "_view_module": "@jupyter-widgets/controls",
            "_view_module_version": "1.5.0",
            "_view_name": "HTMLView",
            "description": "",
            "description_tooltip": null,
            "layout": "IPY_MODEL_71aa88f42ab745d9955a3d3213355aca",
            "placeholder": "​",
            "style": "IPY_MODEL_0d62f1af775a4458a3a09b5af1147825",
            "value": "config.json: 100%"
          }
        },
        "6a3605707cf74385bfef4d59fe25929d": {
          "model_module": "@jupyter-widgets/base",
          "model_module_version": "1.2.0",
          "model_name": "LayoutModel",
          "state": {
            "_model_module": "@jupyter-widgets/base",
            "_model_module_version": "1.2.0",
            "_model_name": "LayoutModel",
            "_view_count": null,
            "_view_module": "@jupyter-widgets/base",
            "_view_module_version": "1.2.0",
            "_view_name": "LayoutView",
            "align_content": null,
            "align_items": null,
            "align_self": null,
            "border": null,
            "bottom": null,
            "display": null,
            "flex": null,
            "flex_flow": null,
            "grid_area": null,
            "grid_auto_columns": null,
            "grid_auto_flow": null,
            "grid_auto_rows": null,
            "grid_column": null,
            "grid_gap": null,
            "grid_row": null,
            "grid_template_areas": null,
            "grid_template_columns": null,
            "grid_template_rows": null,
            "height": null,
            "justify_content": null,
            "justify_items": null,
            "left": null,
            "margin": null,
            "max_height": null,
            "max_width": null,
            "min_height": null,
            "min_width": null,
            "object_fit": null,
            "object_position": null,
            "order": null,
            "overflow": null,
            "overflow_x": null,
            "overflow_y": null,
            "padding": null,
            "right": null,
            "top": null,
            "visibility": null,
            "width": null
          }
        },
        "71aa88f42ab745d9955a3d3213355aca": {
          "model_module": "@jupyter-widgets/base",
          "model_module_version": "1.2.0",
          "model_name": "LayoutModel",
          "state": {
            "_model_module": "@jupyter-widgets/base",
            "_model_module_version": "1.2.0",
            "_model_name": "LayoutModel",
            "_view_count": null,
            "_view_module": "@jupyter-widgets/base",
            "_view_module_version": "1.2.0",
            "_view_name": "LayoutView",
            "align_content": null,
            "align_items": null,
            "align_self": null,
            "border": null,
            "bottom": null,
            "display": null,
            "flex": null,
            "flex_flow": null,
            "grid_area": null,
            "grid_auto_columns": null,
            "grid_auto_flow": null,
            "grid_auto_rows": null,
            "grid_column": null,
            "grid_gap": null,
            "grid_row": null,
            "grid_template_areas": null,
            "grid_template_columns": null,
            "grid_template_rows": null,
            "height": null,
            "justify_content": null,
            "justify_items": null,
            "left": null,
            "margin": null,
            "max_height": null,
            "max_width": null,
            "min_height": null,
            "min_width": null,
            "object_fit": null,
            "object_position": null,
            "order": null,
            "overflow": null,
            "overflow_x": null,
            "overflow_y": null,
            "padding": null,
            "right": null,
            "top": null,
            "visibility": null,
            "width": null
          }
        },
        "84f23a45cf594483b613b0a8f34c7c56": {
          "model_module": "@jupyter-widgets/controls",
          "model_module_version": "1.5.0",
          "model_name": "FloatProgressModel",
          "state": {
            "_dom_classes": [],
            "_model_module": "@jupyter-widgets/controls",
            "_model_module_version": "1.5.0",
            "_model_name": "FloatProgressModel",
            "_view_count": null,
            "_view_module": "@jupyter-widgets/controls",
            "_view_module_version": "1.5.0",
            "_view_name": "ProgressView",
            "bar_style": "success",
            "description": "",
            "description_tooltip": null,
            "layout": "IPY_MODEL_b840992ecf4c4478b921be94f5cc03b3",
            "max": 3132320,
            "min": 0,
            "orientation": "horizontal",
            "style": "IPY_MODEL_e9bce4b8a8d9497187bdfff0b19fd94e",
            "value": 3132320
          }
        },
        "88b2bae4b12f446a8dc78343c2631f1c": {
          "model_module": "@jupyter-widgets/base",
          "model_module_version": "1.2.0",
          "model_name": "LayoutModel",
          "state": {
            "_model_module": "@jupyter-widgets/base",
            "_model_module_version": "1.2.0",
            "_model_name": "LayoutModel",
            "_view_count": null,
            "_view_module": "@jupyter-widgets/base",
            "_view_module_version": "1.2.0",
            "_view_name": "LayoutView",
            "align_content": null,
            "align_items": null,
            "align_self": null,
            "border": null,
            "bottom": null,
            "display": null,
            "flex": null,
            "flex_flow": null,
            "grid_area": null,
            "grid_auto_columns": null,
            "grid_auto_flow": null,
            "grid_auto_rows": null,
            "grid_column": null,
            "grid_gap": null,
            "grid_row": null,
            "grid_template_areas": null,
            "grid_template_columns": null,
            "grid_template_rows": null,
            "height": null,
            "justify_content": null,
            "justify_items": null,
            "left": null,
            "margin": null,
            "max_height": null,
            "max_width": null,
            "min_height": null,
            "min_width": null,
            "object_fit": null,
            "object_position": null,
            "order": null,
            "overflow": null,
            "overflow_x": null,
            "overflow_y": null,
            "padding": null,
            "right": null,
            "top": null,
            "visibility": null,
            "width": null
          }
        },
        "9077b4d9a41942f691679f1c3dfffcda": {
          "model_module": "@jupyter-widgets/controls",
          "model_module_version": "1.5.0",
          "model_name": "DescriptionStyleModel",
          "state": {
            "_model_module": "@jupyter-widgets/controls",
            "_model_module_version": "1.5.0",
            "_model_name": "DescriptionStyleModel",
            "_view_count": null,
            "_view_module": "@jupyter-widgets/base",
            "_view_module_version": "1.2.0",
            "_view_name": "StyleView",
            "description_width": ""
          }
        },
        "9a031128f79a4eff98b11f4a14f78d8c": {
          "model_module": "@jupyter-widgets/controls",
          "model_module_version": "1.5.0",
          "model_name": "HTMLModel",
          "state": {
            "_dom_classes": [],
            "_model_module": "@jupyter-widgets/controls",
            "_model_module_version": "1.5.0",
            "_model_name": "HTMLModel",
            "_view_count": null,
            "_view_module": "@jupyter-widgets/controls",
            "_view_module_version": "1.5.0",
            "_view_name": "HTMLView",
            "description": "",
            "description_tooltip": null,
            "layout": "IPY_MODEL_44081f898e7340198a67abf5dea447a9",
            "placeholder": "​",
            "style": "IPY_MODEL_c55f7dd2682b4ae1a8b2a9e1393f03e2",
            "value": " 3.13M/3.13M [00:00&lt;00:00, 12.6MB/s]"
          }
        },
        "ad983b1ebad042a992ac1bc250ee1ca4": {
          "model_module": "@jupyter-widgets/controls",
          "model_module_version": "1.5.0",
          "model_name": "FloatProgressModel",
          "state": {
            "_dom_classes": [],
            "_model_module": "@jupyter-widgets/controls",
            "_model_module_version": "1.5.0",
            "_model_name": "FloatProgressModel",
            "_view_count": null,
            "_view_module": "@jupyter-widgets/controls",
            "_view_module_version": "1.5.0",
            "_view_name": "ProgressView",
            "bar_style": "success",
            "description": "",
            "description_tooltip": null,
            "layout": "IPY_MODEL_f1317787c1564d678a1ffce4b847cc07",
            "max": 557,
            "min": 0,
            "orientation": "horizontal",
            "style": "IPY_MODEL_0c73e94db5a340d4a5e014c44a234677",
            "value": 557
          }
        },
        "b04372da3b1b402eaf1ef39d53754296": {
          "model_module": "@jupyter-widgets/controls",
          "model_module_version": "1.5.0",
          "model_name": "DescriptionStyleModel",
          "state": {
            "_model_module": "@jupyter-widgets/controls",
            "_model_module_version": "1.5.0",
            "_model_name": "DescriptionStyleModel",
            "_view_count": null,
            "_view_module": "@jupyter-widgets/base",
            "_view_module_version": "1.2.0",
            "_view_name": "StyleView",
            "description_width": ""
          }
        },
        "b5d1b0a547614d7a9da0bcb4242c6083": {
          "model_module": "@jupyter-widgets/controls",
          "model_module_version": "1.5.0",
          "model_name": "HTMLModel",
          "state": {
            "_dom_classes": [],
            "_model_module": "@jupyter-widgets/controls",
            "_model_module_version": "1.5.0",
            "_model_name": "HTMLModel",
            "_view_count": null,
            "_view_module": "@jupyter-widgets/controls",
            "_view_module_version": "1.5.0",
            "_view_name": "HTMLView",
            "description": "",
            "description_tooltip": null,
            "layout": "IPY_MODEL_dbf738e5907c4c1fbec6bcd4e69218eb",
            "placeholder": "​",
            "style": "IPY_MODEL_20b836e429814a65a761871065363cb2",
            "value": "vocab.txt: 100%"
          }
        },
        "b840992ecf4c4478b921be94f5cc03b3": {
          "model_module": "@jupyter-widgets/base",
          "model_module_version": "1.2.0",
          "model_name": "LayoutModel",
          "state": {
            "_model_module": "@jupyter-widgets/base",
            "_model_module_version": "1.2.0",
            "_model_name": "LayoutModel",
            "_view_count": null,
            "_view_module": "@jupyter-widgets/base",
            "_view_module_version": "1.2.0",
            "_view_name": "LayoutView",
            "align_content": null,
            "align_items": null,
            "align_self": null,
            "border": null,
            "bottom": null,
            "display": null,
            "flex": null,
            "flex_flow": null,
            "grid_area": null,
            "grid_auto_columns": null,
            "grid_auto_flow": null,
            "grid_auto_rows": null,
            "grid_column": null,
            "grid_gap": null,
            "grid_row": null,
            "grid_template_areas": null,
            "grid_template_columns": null,
            "grid_template_rows": null,
            "height": null,
            "justify_content": null,
            "justify_items": null,
            "left": null,
            "margin": null,
            "max_height": null,
            "max_width": null,
            "min_height": null,
            "min_width": null,
            "object_fit": null,
            "object_position": null,
            "order": null,
            "overflow": null,
            "overflow_x": null,
            "overflow_y": null,
            "padding": null,
            "right": null,
            "top": null,
            "visibility": null,
            "width": null
          }
        },
        "bb55100fe5fc4e67b7c78fc96113efe9": {
          "model_module": "@jupyter-widgets/controls",
          "model_module_version": "1.5.0",
          "model_name": "FloatProgressModel",
          "state": {
            "_dom_classes": [],
            "_model_module": "@jupyter-widgets/controls",
            "_model_module_version": "1.5.0",
            "_model_name": "FloatProgressModel",
            "_view_count": null,
            "_view_module": "@jupyter-widgets/controls",
            "_view_module_version": "1.5.0",
            "_view_name": "ProgressView",
            "bar_style": "success",
            "description": "",
            "description_tooltip": null,
            "layout": "IPY_MODEL_bbcb5d7447ef4b1ca1cd3f9946e684d2",
            "max": 1135173,
            "min": 0,
            "orientation": "horizontal",
            "style": "IPY_MODEL_447ec07b25f34a34b8b564240c198474",
            "value": 1135173
          }
        },
        "bbcb5d7447ef4b1ca1cd3f9946e684d2": {
          "model_module": "@jupyter-widgets/base",
          "model_module_version": "1.2.0",
          "model_name": "LayoutModel",
          "state": {
            "_model_module": "@jupyter-widgets/base",
            "_model_module_version": "1.2.0",
            "_model_name": "LayoutModel",
            "_view_count": null,
            "_view_module": "@jupyter-widgets/base",
            "_view_module_version": "1.2.0",
            "_view_name": "LayoutView",
            "align_content": null,
            "align_items": null,
            "align_self": null,
            "border": null,
            "bottom": null,
            "display": null,
            "flex": null,
            "flex_flow": null,
            "grid_area": null,
            "grid_auto_columns": null,
            "grid_auto_flow": null,
            "grid_auto_rows": null,
            "grid_column": null,
            "grid_gap": null,
            "grid_row": null,
            "grid_template_areas": null,
            "grid_template_columns": null,
            "grid_template_rows": null,
            "height": null,
            "justify_content": null,
            "justify_items": null,
            "left": null,
            "margin": null,
            "max_height": null,
            "max_width": null,
            "min_height": null,
            "min_width": null,
            "object_fit": null,
            "object_position": null,
            "order": null,
            "overflow": null,
            "overflow_x": null,
            "overflow_y": null,
            "padding": null,
            "right": null,
            "top": null,
            "visibility": null,
            "width": null
          }
        },
        "c55f7dd2682b4ae1a8b2a9e1393f03e2": {
          "model_module": "@jupyter-widgets/controls",
          "model_module_version": "1.5.0",
          "model_name": "DescriptionStyleModel",
          "state": {
            "_model_module": "@jupyter-widgets/controls",
            "_model_module_version": "1.5.0",
            "_model_name": "DescriptionStyleModel",
            "_view_count": null,
            "_view_module": "@jupyter-widgets/base",
            "_view_module_version": "1.2.0",
            "_view_name": "StyleView",
            "description_width": ""
          }
        },
        "c65ae4e13fd040e19ab27b157c578e24": {
          "model_module": "@jupyter-widgets/controls",
          "model_module_version": "1.5.0",
          "model_name": "HTMLModel",
          "state": {
            "_dom_classes": [],
            "_model_module": "@jupyter-widgets/controls",
            "_model_module_version": "1.5.0",
            "_model_name": "HTMLModel",
            "_view_count": null,
            "_view_module": "@jupyter-widgets/controls",
            "_view_module_version": "1.5.0",
            "_view_name": "HTMLView",
            "description": "",
            "description_tooltip": null,
            "layout": "IPY_MODEL_ea24cac177114171b673eab6460960ea",
            "placeholder": "​",
            "style": "IPY_MODEL_9077b4d9a41942f691679f1c3dfffcda",
            "value": "tokenizer.json: 100%"
          }
        },
        "dbf738e5907c4c1fbec6bcd4e69218eb": {
          "model_module": "@jupyter-widgets/base",
          "model_module_version": "1.2.0",
          "model_name": "LayoutModel",
          "state": {
            "_model_module": "@jupyter-widgets/base",
            "_model_module_version": "1.2.0",
            "_model_name": "LayoutModel",
            "_view_count": null,
            "_view_module": "@jupyter-widgets/base",
            "_view_module_version": "1.2.0",
            "_view_name": "LayoutView",
            "align_content": null,
            "align_items": null,
            "align_self": null,
            "border": null,
            "bottom": null,
            "display": null,
            "flex": null,
            "flex_flow": null,
            "grid_area": null,
            "grid_auto_columns": null,
            "grid_auto_flow": null,
            "grid_auto_rows": null,
            "grid_column": null,
            "grid_gap": null,
            "grid_row": null,
            "grid_template_areas": null,
            "grid_template_columns": null,
            "grid_template_rows": null,
            "height": null,
            "justify_content": null,
            "justify_items": null,
            "left": null,
            "margin": null,
            "max_height": null,
            "max_width": null,
            "min_height": null,
            "min_width": null,
            "object_fit": null,
            "object_position": null,
            "order": null,
            "overflow": null,
            "overflow_x": null,
            "overflow_y": null,
            "padding": null,
            "right": null,
            "top": null,
            "visibility": null,
            "width": null
          }
        },
        "dfe3ab83e3684fb98ba2aa3238ed9b28": {
          "model_module": "@jupyter-widgets/controls",
          "model_module_version": "1.5.0",
          "model_name": "HBoxModel",
          "state": {
            "_dom_classes": [],
            "_model_module": "@jupyter-widgets/controls",
            "_model_module_version": "1.5.0",
            "_model_name": "HBoxModel",
            "_view_count": null,
            "_view_module": "@jupyter-widgets/controls",
            "_view_module_version": "1.5.0",
            "_view_name": "HBoxView",
            "box_style": "",
            "children": [
              "IPY_MODEL_b5d1b0a547614d7a9da0bcb4242c6083",
              "IPY_MODEL_02a41a92137f456ca29a7e7ef13cc34e",
              "IPY_MODEL_4051bb3a313043e3b453f9d89146d6f6"
            ],
            "layout": "IPY_MODEL_52a040a29b8741cc843281e70bc3c54d"
          }
        },
        "e9bce4b8a8d9497187bdfff0b19fd94e": {
          "model_module": "@jupyter-widgets/controls",
          "model_module_version": "1.5.0",
          "model_name": "ProgressStyleModel",
          "state": {
            "_model_module": "@jupyter-widgets/controls",
            "_model_module_version": "1.5.0",
            "_model_name": "ProgressStyleModel",
            "_view_count": null,
            "_view_module": "@jupyter-widgets/base",
            "_view_module_version": "1.2.0",
            "_view_name": "StyleView",
            "bar_color": null,
            "description_width": ""
          }
        },
        "ea24cac177114171b673eab6460960ea": {
          "model_module": "@jupyter-widgets/base",
          "model_module_version": "1.2.0",
          "model_name": "LayoutModel",
          "state": {
            "_model_module": "@jupyter-widgets/base",
            "_model_module_version": "1.2.0",
            "_model_name": "LayoutModel",
            "_view_count": null,
            "_view_module": "@jupyter-widgets/base",
            "_view_module_version": "1.2.0",
            "_view_name": "LayoutView",
            "align_content": null,
            "align_items": null,
            "align_self": null,
            "border": null,
            "bottom": null,
            "display": null,
            "flex": null,
            "flex_flow": null,
            "grid_area": null,
            "grid_auto_columns": null,
            "grid_auto_flow": null,
            "grid_auto_rows": null,
            "grid_column": null,
            "grid_gap": null,
            "grid_row": null,
            "grid_template_areas": null,
            "grid_template_columns": null,
            "grid_template_rows": null,
            "height": null,
            "justify_content": null,
            "justify_items": null,
            "left": null,
            "margin": null,
            "max_height": null,
            "max_width": null,
            "min_height": null,
            "min_width": null,
            "object_fit": null,
            "object_position": null,
            "order": null,
            "overflow": null,
            "overflow_x": null,
            "overflow_y": null,
            "padding": null,
            "right": null,
            "top": null,
            "visibility": null,
            "width": null
          }
        },
        "f1317787c1564d678a1ffce4b847cc07": {
          "model_module": "@jupyter-widgets/base",
          "model_module_version": "1.2.0",
          "model_name": "LayoutModel",
          "state": {
            "_model_module": "@jupyter-widgets/base",
            "_model_module_version": "1.2.0",
            "_model_name": "LayoutModel",
            "_view_count": null,
            "_view_module": "@jupyter-widgets/base",
            "_view_module_version": "1.2.0",
            "_view_name": "LayoutView",
            "align_content": null,
            "align_items": null,
            "align_self": null,
            "border": null,
            "bottom": null,
            "display": null,
            "flex": null,
            "flex_flow": null,
            "grid_area": null,
            "grid_auto_columns": null,
            "grid_auto_flow": null,
            "grid_auto_rows": null,
            "grid_column": null,
            "grid_gap": null,
            "grid_row": null,
            "grid_template_areas": null,
            "grid_template_columns": null,
            "grid_template_rows": null,
            "height": null,
            "justify_content": null,
            "justify_items": null,
            "left": null,
            "margin": null,
            "max_height": null,
            "max_width": null,
            "min_height": null,
            "min_width": null,
            "object_fit": null,
            "object_position": null,
            "order": null,
            "overflow": null,
            "overflow_x": null,
            "overflow_y": null,
            "padding": null,
            "right": null,
            "top": null,
            "visibility": null,
            "width": null
          }
        },
        "f5328c05e355477ba782e3a0de1c76bd": {
          "model_module": "@jupyter-widgets/base",
          "model_module_version": "1.2.0",
          "model_name": "LayoutModel",
          "state": {
            "_model_module": "@jupyter-widgets/base",
            "_model_module_version": "1.2.0",
            "_model_name": "LayoutModel",
            "_view_count": null,
            "_view_module": "@jupyter-widgets/base",
            "_view_module_version": "1.2.0",
            "_view_name": "LayoutView",
            "align_content": null,
            "align_items": null,
            "align_self": null,
            "border": null,
            "bottom": null,
            "display": null,
            "flex": null,
            "flex_flow": null,
            "grid_area": null,
            "grid_auto_columns": null,
            "grid_auto_flow": null,
            "grid_auto_rows": null,
            "grid_column": null,
            "grid_gap": null,
            "grid_row": null,
            "grid_template_areas": null,
            "grid_template_columns": null,
            "grid_template_rows": null,
            "height": null,
            "justify_content": null,
            "justify_items": null,
            "left": null,
            "margin": null,
            "max_height": null,
            "max_width": null,
            "min_height": null,
            "min_width": null,
            "object_fit": null,
            "object_position": null,
            "order": null,
            "overflow": null,
            "overflow_x": null,
            "overflow_y": null,
            "padding": null,
            "right": null,
            "top": null,
            "visibility": null,
            "width": null
          }
        },
        "f7f2b1ca835544fda2956749b89701c7": {
          "model_module": "@jupyter-widgets/controls",
          "model_module_version": "1.5.0",
          "model_name": "HBoxModel",
          "state": {
            "_dom_classes": [],
            "_model_module": "@jupyter-widgets/controls",
            "_model_module_version": "1.5.0",
            "_model_name": "HBoxModel",
            "_view_count": null,
            "_view_module": "@jupyter-widgets/controls",
            "_view_module_version": "1.5.0",
            "_view_name": "HBoxView",
            "box_style": "",
            "children": [
              "IPY_MODEL_c65ae4e13fd040e19ab27b157c578e24",
              "IPY_MODEL_84f23a45cf594483b613b0a8f34c7c56",
              "IPY_MODEL_9a031128f79a4eff98b11f4a14f78d8c"
            ],
            "layout": "IPY_MODEL_2ac349678dd74e63b0a5368bcf7c5eeb"
          }
        }
      }
    }
  },
  "nbformat": 4,
  "nbformat_minor": 0
}
